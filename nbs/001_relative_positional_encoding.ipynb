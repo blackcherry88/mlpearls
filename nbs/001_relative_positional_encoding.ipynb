{
 "cells": [
  {
   "cell_type": "code",
   "execution_count": 1,
   "id": "567ca480",
   "metadata": {},
   "outputs": [],
   "source": [
    "%load_ext autoreload\n",
    "%autoreload 2"
   ]
  },
  {
   "cell_type": "code",
   "execution_count": 2,
   "id": "d9a4309e",
   "metadata": {},
   "outputs": [],
   "source": [
    "#default_exp dl.utils.relative_positional\n",
    "from nbdev.showdoc import show_doc"
   ]
  },
  {
   "cell_type": "markdown",
   "id": "06de036b",
   "metadata": {},
   "source": [
    "This notebook is about implementing relative positional encoding introduced in [Shaw et al (2018)](https://arxiv.org/pdf/1803.02155.pdf) and refined by [Huang et al (2018)](https://arxiv.org/pdf/1809.04281.pdf)\n",
    "\n",
    "Shaw et al. originally introduce two learming parameters ($L^2 D$ size, where $L$ is seq len and $D$ is hidden dimension) to added in both keys and values when computing attentions.\n",
    "\n",
    "$$\n",
    "e_{ij} = \\frac{x_i W^Q(x_jW^K + a_{ij}^K)^T}{\\sqrt{d}} \\tag{1}\n",
    "$$\n",
    "\n",
    "$$\n",
    "\\alpha_{ij} = \\frac{e^{e_{ij}}}{\\sum_{k=1}^{k=n}e^{e_{ik}}}\n",
    "$$\n",
    "\n",
    "And also to the values:\n",
    "$\n",
    "z_i = \\sum_{j=1}^{j=n}\\alpha_{ij}(x_j W^V + a_{ij}^V) \\tag{2}\n",
    "$"
   ]
  },
  {
   "cell_type": "markdown",
   "id": "a9ab68ed",
   "metadata": {},
   "source": [
    "The equation 1 is equivalent to \n",
    "\n",
    "$$\n",
    "\\text{RelativeAttention} = \\text{Softmax} \\left( \\frac{Q K^\\top + S_{rel}}{\\sqrt{D_h}} \\right) V \\tag{3}\n",
    "$$\n",
    "\n",
    "Where $R^T$ is the same as $A^K$ in equation 1\n",
    "$$\n",
    "Srel = Q R^T\n",
    "$$\n",
    "\n",
    "To address the memory concerns, Huang et al. proposed a skew algorithm by directly computing $S_{rel}$ not using intermediate $R$ at all, thus cut space to only position embedding space. While the idea of not direct computing $Srel$ is, I think the paper made a mistake in how to computing. I don't think it can be computed by adding one column, then shifting.\n",
    "\n",
    "![Skew algorithm ](img/skew_alg.png)\n",
    "\n",
    "\n",
    "Here is an illustration how the paper works.\n"
   ]
  },
  {
   "cell_type": "code",
   "execution_count": 6,
   "id": "5870aed2",
   "metadata": {},
   "outputs": [],
   "source": [
    "import numpy as np"
   ]
  },
  {
   "cell_type": "code",
   "execution_count": 131,
   "id": "0bfcfa62",
   "metadata": {},
   "outputs": [],
   "source": [
    "# L is seq len\n",
    "L = 5\n",
    "\n",
    "# Hidden dimsion\n",
    "D = 1\n",
    "\n",
    "Q = np.ones((L, D))\n",
    "# Er is relative positional embeding\n",
    "Er = np.array(range(-L+1, L))\n",
    "Er = Er[:, np.newaxis]"
   ]
  },
  {
   "cell_type": "code",
   "execution_count": 148,
   "id": "e10a2625",
   "metadata": {},
   "outputs": [
    {
     "data": {
      "text/plain": [
       "(array([[1.],\n",
       "        [1.],\n",
       "        [1.],\n",
       "        [1.],\n",
       "        [1.]]),\n",
       " array([[-4],\n",
       "        [-3],\n",
       "        [-2],\n",
       "        [-1],\n",
       "        [ 0],\n",
       "        [ 1],\n",
       "        [ 2],\n",
       "        [ 3],\n",
       "        [ 4]]))"
      ]
     },
     "execution_count": 148,
     "metadata": {},
     "output_type": "execute_result"
    }
   ],
   "source": [
    "Q,Er"
   ]
  },
  {
   "cell_type": "code",
   "execution_count": 149,
   "id": "d52610ff",
   "metadata": {},
   "outputs": [],
   "source": [
    "QEr = Q @ Er.T"
   ]
  },
  {
   "cell_type": "code",
   "execution_count": 150,
   "id": "002a994c",
   "metadata": {
    "scrolled": true
   },
   "outputs": [
    {
     "data": {
      "text/plain": [
       "array([[-4., -3., -2., -1.,  0.,  1.,  2.,  3.,  4.],\n",
       "       [-4., -3., -2., -1.,  0.,  1.,  2.,  3.,  4.],\n",
       "       [-4., -3., -2., -1.,  0.,  1.,  2.,  3.,  4.],\n",
       "       [-4., -3., -2., -1.,  0.,  1.,  2.,  3.,  4.],\n",
       "       [-4., -3., -2., -1.,  0.,  1.,  2.,  3.,  4.]])"
      ]
     },
     "execution_count": 150,
     "metadata": {},
     "output_type": "execute_result"
    }
   ],
   "source": [
    "QEr"
   ]
  },
  {
   "cell_type": "code",
   "execution_count": 151,
   "id": "a23e948e",
   "metadata": {},
   "outputs": [],
   "source": [
    "def naive_skew(QEr):\n",
    "    rows, cols = QEr.shape\n",
    "    seq_len = rows\n",
    "    res = []\n",
    "    for q in range(rows):\n",
    "        rel_col_0 = 0 - q + seq_len - 1\n",
    "        res.append(QEr[q, rel_col_0:rel_col_0+seq_len])\n",
    "    return np.array(res)"
   ]
  },
  {
   "cell_type": "code",
   "execution_count": 152,
   "id": "fc1b39de",
   "metadata": {},
   "outputs": [
    {
     "data": {
      "text/plain": [
       "array([[ 0.,  1.,  2.,  3.,  4.],\n",
       "       [-1.,  0.,  1.,  2.,  3.],\n",
       "       [-2., -1.,  0.,  1.,  2.],\n",
       "       [-3., -2., -1.,  0.,  1.],\n",
       "       [-4., -3., -2., -1.,  0.]])"
      ]
     },
     "execution_count": 152,
     "metadata": {},
     "output_type": "execute_result"
    }
   ],
   "source": [
    "ideal_sel = naive_skew(QEr)\n",
    "ideal_sel"
   ]
  },
  {
   "cell_type": "code",
   "execution_count": 167,
   "id": "a993c885",
   "metadata": {},
   "outputs": [
    {
     "data": {
      "text/plain": [
       "array([[-4., -3., -2., -1.,  0.,  1.,  2.,  3.,  4., -8.],\n",
       "       [-4., -3., -2., -1.,  0.,  1.,  2.,  3.,  4., -8.],\n",
       "       [-4., -3., -2., -1.,  0.,  1.,  2.,  3.,  4., -8.],\n",
       "       [-4., -3., -2., -1.,  0.,  1.,  2.,  3.,  4., -8.],\n",
       "       [-4., -3., -2., -1.,  0.,  1.,  2.,  3.,  4., -8.]])"
      ]
     },
     "execution_count": 167,
     "metadata": {},
     "output_type": "execute_result"
    }
   ],
   "source": [
    "# here is illustration how the paper works\n",
    "# pad a dummy column vector of length L before the leftmost column\n",
    "QEr_pad = np.pad(QEr, ((0, 0), (0, 1)), constant_values=(-8, -8))\n",
    "QEr_pad"
   ]
  },
  {
   "cell_type": "code",
   "execution_count": 168,
   "id": "199234d5",
   "metadata": {},
   "outputs": [
    {
     "data": {
      "text/plain": [
       "(5, 10)"
      ]
     },
     "execution_count": 168,
     "metadata": {},
     "output_type": "execute_result"
    }
   ],
   "source": [
    "m, n = QEr_pad.shape\n",
    "m, n"
   ]
  },
  {
   "cell_type": "code",
   "execution_count": 169,
   "id": "cc1c8701",
   "metadata": {
    "scrolled": true
   },
   "outputs": [],
   "source": [
    "\n",
    "QEr_shaped = QEr_pad.reshape(n, -1)\n",
    "Sel = QEr_shaped[:-1].reshape(m, -1)"
   ]
  },
  {
   "cell_type": "code",
   "execution_count": 173,
   "id": "1dfb35cf",
   "metadata": {},
   "outputs": [
    {
     "data": {
      "text/plain": [
       "array([[ 0.,  1.,  2.,  3.,  4.],\n",
       "       [-1.,  0.,  1.,  2.,  3.],\n",
       "       [-2., -1.,  0.,  1.,  2.],\n",
       "       [-3., -2., -1.,  0.,  1.],\n",
       "       [-4., -3., -2., -1.,  0.]])"
      ]
     },
     "execution_count": 173,
     "metadata": {},
     "output_type": "execute_result"
    }
   ],
   "source": [
    "Sel = Sel[:, -m:]\n",
    "Sel"
   ]
  },
  {
   "cell_type": "code",
   "execution_count": 174,
   "id": "b2927463",
   "metadata": {},
   "outputs": [
    {
     "data": {
      "text/plain": [
       "array([[ 0.,  1.,  2.,  3.,  4.],\n",
       "       [-1.,  0.,  1.,  2.,  3.],\n",
       "       [-2., -1.,  0.,  1.,  2.],\n",
       "       [-3., -2., -1.,  0.,  1.],\n",
       "       [-4., -3., -2., -1.,  0.]])"
      ]
     },
     "execution_count": 174,
     "metadata": {},
     "output_type": "execute_result"
    }
   ],
   "source": [
    "ideal_sel"
   ]
  },
  {
   "cell_type": "code",
   "execution_count": 175,
   "id": "2da4545c",
   "metadata": {},
   "outputs": [
    {
     "data": {
      "text/plain": [
       "True"
      ]
     },
     "execution_count": 175,
     "metadata": {},
     "output_type": "execute_result"
    }
   ],
   "source": [
    "np.allclose(ideal_sel, Sel)"
   ]
  },
  {
   "cell_type": "code",
   "execution_count": 107,
   "id": "389ae547",
   "metadata": {},
   "outputs": [],
   "source": [
    "QEr = Q @ Er.T\n",
    "\n",
    "def skew(QEr):\n",
    "    seq_len = QEr.shape[0]\n",
    "    q_ind = np.arange(seq_len)[:, None]\n",
    "    k_ind = np.arange(seq_len)[None, :]\n",
    "    col_ind = k_ind - q_ind + seq_len - 1\n",
    "    return QEr[q_ind, col_ind]\n"
   ]
  },
  {
   "cell_type": "code",
   "execution_count": 108,
   "id": "a5fa23e0",
   "metadata": {},
   "outputs": [
    {
     "data": {
      "text/plain": [
       "array([[ 0.,  1.,  2.,  3.,  4.],\n",
       "       [-1.,  0.,  1.,  2.,  3.],\n",
       "       [-2., -1.,  0.,  1.,  2.],\n",
       "       [-3., -2., -1.,  0.,  1.],\n",
       "       [-4., -3., -2., -1.,  0.]])"
      ]
     },
     "execution_count": 108,
     "metadata": {},
     "output_type": "execute_result"
    }
   ],
   "source": [
    "sel = skew(QEr)\n",
    "sel"
   ]
  },
  {
   "cell_type": "code",
   "execution_count": 111,
   "id": "5390e018",
   "metadata": {},
   "outputs": [
    {
     "data": {
      "text/plain": [
       "True"
      ]
     },
     "execution_count": 111,
     "metadata": {},
     "output_type": "execute_result"
    }
   ],
   "source": [
    "np.allclose(ideal_sel, sel)"
   ]
  },
  {
   "cell_type": "code",
   "execution_count": 178,
   "id": "ddb69e84",
   "metadata": {},
   "outputs": [],
   "source": [
    "# torch version\n",
    "import torch"
   ]
  },
  {
   "cell_type": "code",
   "execution_count": 179,
   "id": "0b5e2a42",
   "metadata": {},
   "outputs": [
    {
     "data": {
      "text/plain": [
       "(tensor([[1.],\n",
       "         [1.],\n",
       "         [1.],\n",
       "         [1.],\n",
       "         [1.]]),\n",
       " tensor([[-4.],\n",
       "         [-3.],\n",
       "         [-2.],\n",
       "         [-1.],\n",
       "         [ 0.],\n",
       "         [ 1.],\n",
       "         [ 2.],\n",
       "         [ 3.],\n",
       "         [ 4.]]))"
      ]
     },
     "execution_count": 179,
     "metadata": {},
     "output_type": "execute_result"
    }
   ],
   "source": [
    "# L is seq len\n",
    "L = 5\n",
    "\n",
    "# Hidden dimsion\n",
    "D = 1\n",
    "\n",
    "Q = torch.ones((L, D), dtype=torch.float32)\n",
    "# Er is relative positional embeding\n",
    "Er = torch.arange(-L+1, L, dtype=torch.float32).reshape((-1, D))\n",
    "Q, Er"
   ]
  },
  {
   "cell_type": "code",
   "execution_count": 180,
   "id": "2b521317",
   "metadata": {},
   "outputs": [],
   "source": [
    "def skew(QEr):\n",
    "    seq_len = QEr.shape[0]\n",
    "    q_ind = torch.arange(seq_len)[:, None]\n",
    "    k_ind = torch.arange(seq_len)[None, :]\n",
    "    col_ind = k_ind - q_ind + seq_len - 1\n",
    "    return QEr[q_ind, col_ind]"
   ]
  },
  {
   "cell_type": "code",
   "execution_count": 181,
   "id": "e8783014",
   "metadata": {},
   "outputs": [
    {
     "data": {
      "text/plain": [
       "tensor([[-4., -3., -2., -1.,  0.,  1.,  2.,  3.,  4.],\n",
       "        [-4., -3., -2., -1.,  0.,  1.,  2.,  3.,  4.],\n",
       "        [-4., -3., -2., -1.,  0.,  1.,  2.,  3.,  4.],\n",
       "        [-4., -3., -2., -1.,  0.,  1.,  2.,  3.,  4.],\n",
       "        [-4., -3., -2., -1.,  0.,  1.,  2.,  3.,  4.]])"
      ]
     },
     "execution_count": 181,
     "metadata": {},
     "output_type": "execute_result"
    }
   ],
   "source": [
    "QEr = Q @ Er.T\n",
    "QEr"
   ]
  },
  {
   "cell_type": "code",
   "execution_count": 182,
   "id": "82e584c2",
   "metadata": {},
   "outputs": [
    {
     "data": {
      "text/plain": [
       "tensor([[ 0.,  1.,  2.,  3.,  4.],\n",
       "        [-1.,  0.,  1.,  2.,  3.],\n",
       "        [-2., -1.,  0.,  1.,  2.],\n",
       "        [-3., -2., -1.,  0.,  1.],\n",
       "        [-4., -3., -2., -1.,  0.]])"
      ]
     },
     "execution_count": 182,
     "metadata": {},
     "output_type": "execute_result"
    }
   ],
   "source": [
    "skew(QEr)"
   ]
  },
  {
   "cell_type": "code",
   "execution_count": 190,
   "id": "5121a4e4",
   "metadata": {},
   "outputs": [],
   "source": [
    "import torch.nn.functional as F\n",
    "\n",
    "def shift_right2(QEr: torch.Tensor):\n",
    "    \"\"\"\n",
    "    This method shifts $i^{th}$ row of a matrix by $i$ columns.\n",
    "    If the input is `[[1, 2 ,3], [4, 5 ,6], [7, 8, 9]]`, the shifted\n",
    "    result would be `[[1, 2 ,3], [0, 4, 5], [6, 0, 7]]`.\n",
    "    *Ideally we should mask out the lower triangle but it's ok for our purpose*.\n",
    "    \"\"\"\n",
    "\n",
    "    seq_len, e_len = QEr.shape\n",
    "    padded = F.pad(QEr, (0, 1))\n",
    "    \n",
    "    padded = padded.view(e_len + 1, seq_len)\n",
    "    # Reshape and remove excess elements from the end\n",
    "    return padded[:-1].view_as(QEr)[:,-seq_len:]"
   ]
  },
  {
   "cell_type": "code",
   "execution_count": 191,
   "id": "a483636f",
   "metadata": {},
   "outputs": [
    {
     "data": {
      "text/plain": [
       "tensor([[ 0.,  1.,  2.,  3.,  4.],\n",
       "        [-1.,  0.,  1.,  2.,  3.],\n",
       "        [-2., -1.,  0.,  1.,  2.],\n",
       "        [-3., -2., -1.,  0.,  1.],\n",
       "        [-4., -3., -2., -1.,  0.]])"
      ]
     },
     "execution_count": 191,
     "metadata": {},
     "output_type": "execute_result"
    }
   ],
   "source": [
    "shift_right2(QEr)"
   ]
  },
  {
   "cell_type": "code",
   "execution_count": 192,
   "id": "c2cfa8b0",
   "metadata": {},
   "outputs": [],
   "source": [
    "def shift_right(x: torch.Tensor):\n",
    "    \"\"\"\n",
    "    This method shifts $i^{th}$ row of a matrix by $i$ columns.\n",
    "    If the input is `[[1, 2 ,3], [4, 5 ,6], [7, 8, 9]]`, the shifted\n",
    "    result would be `[[1, 2 ,3], [0, 4, 5], [6, 0, 7]]`.\n",
    "    *Ideally we should mask out the lower triangle but it's ok for our purpose*.\n",
    "    \"\"\"\n",
    "\n",
    "    # Concatenate a column of zeros\n",
    "    zero_pad = x.new_zeros(x.shape[0], 1, *x.shape[2:])\n",
    "    x_padded = torch.cat([x, zero_pad], dim=1)\n",
    "\n",
    "    # Reshape and remove excess elements from the end\n",
    "    x_padded = x_padded.view(x.shape[1] + 1, x.shape[0], *x.shape[2:])\n",
    "    x = x_padded[:-1].view_as(x)\n",
    "    return x[:, -x.shape[0]:]"
   ]
  },
  {
   "cell_type": "code",
   "execution_count": 193,
   "id": "fe1b31b2",
   "metadata": {},
   "outputs": [
    {
     "data": {
      "text/plain": [
       "tensor([[ 0.,  1.,  2.,  3.,  4.],\n",
       "        [-1.,  0.,  1.,  2.,  3.],\n",
       "        [-2., -1.,  0.,  1.,  2.],\n",
       "        [-3., -2., -1.,  0.,  1.],\n",
       "        [-4., -3., -2., -1.,  0.]])"
      ]
     },
     "execution_count": 193,
     "metadata": {},
     "output_type": "execute_result"
    }
   ],
   "source": [
    "shift_right(QEr)"
   ]
  },
  {
   "cell_type": "code",
   "execution_count": 185,
   "id": "149e4b98",
   "metadata": {},
   "outputs": [
    {
     "data": {
      "text/plain": [
       "tensor([[1, 2, 3],\n",
       "        [4, 5, 6],\n",
       "        [7, 8, 9]])"
      ]
     },
     "execution_count": 185,
     "metadata": {},
     "output_type": "execute_result"
    }
   ],
   "source": [
    "x_= torch.tensor([[1, 2 ,3], [4, 5 ,6], [7, 8, 9]])\n",
    "x_\n"
   ]
  },
  {
   "cell_type": "code",
   "execution_count": 186,
   "id": "cf3301be",
   "metadata": {},
   "outputs": [
    {
     "data": {
      "text/plain": [
       "tensor([[1, 2, 3],\n",
       "        [0, 4, 5],\n",
       "        [6, 0, 7]])"
      ]
     },
     "execution_count": 186,
     "metadata": {},
     "output_type": "execute_result"
    }
   ],
   "source": [
    "shift_right(x_)"
   ]
  },
  {
   "cell_type": "code",
   "execution_count": 203,
   "id": "8c52e8c4",
   "metadata": {},
   "outputs": [
    {
     "name": "stdout",
     "output_type": "stream",
     "text": [
      "CPU times: total: 297 ms\n",
      "Wall time: 325 ms\n"
     ]
    }
   ],
   "source": [
    "%%time\n",
    "for i in range(10000):\n",
    "    shift_right2(QEr)"
   ]
  },
  {
   "cell_type": "code",
   "execution_count": 204,
   "id": "13f3d5ef",
   "metadata": {},
   "outputs": [
    {
     "name": "stdout",
     "output_type": "stream",
     "text": [
      "CPU times: total: 328 ms\n",
      "Wall time: 306 ms\n"
     ]
    }
   ],
   "source": [
    "%%time\n",
    "for i in range(10000):\n",
    "    shift_right(QEr)"
   ]
  },
  {
   "cell_type": "code",
   "execution_count": 205,
   "id": "a77227b5",
   "metadata": {},
   "outputs": [
    {
     "name": "stdout",
     "output_type": "stream",
     "text": [
      "CPU times: total: 578 ms\n",
      "Wall time: 569 ms\n"
     ]
    }
   ],
   "source": [
    "%%time\n",
    "for i in range(10000):\n",
    "    skew(QEr)"
   ]
  },
  {
   "cell_type": "code",
   "execution_count": null,
   "id": "65728668",
   "metadata": {},
   "outputs": [],
   "source": []
  }
 ],
 "metadata": {
  "kernelspec": {
   "display_name": "Python 3 (ipykernel)",
   "language": "python",
   "name": "python3"
  },
  "language_info": {
   "codemirror_mode": {
    "name": "ipython",
    "version": 3
   },
   "file_extension": ".py",
   "mimetype": "text/x-python",
   "name": "python",
   "nbconvert_exporter": "python",
   "pygments_lexer": "ipython3",
   "version": "3.10.10"
  }
 },
 "nbformat": 4,
 "nbformat_minor": 5
}
