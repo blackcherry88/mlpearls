{
 "cells": [
  {
   "cell_type": "code",
   "execution_count": 1,
   "id": "01c1f4cf",
   "metadata": {},
   "outputs": [],
   "source": [
    "%load_ext autoreload\n",
    "%autoreload 2"
   ]
  },
  {
   "cell_type": "code",
   "execution_count": 2,
   "id": "61d0ac3b",
   "metadata": {},
   "outputs": [],
   "source": [
    "#default_exp dl.utils.relative_positional\n",
    "from nbdev.showdoc import show_doc"
   ]
  },
  {
   "cell_type": "markdown",
   "id": "c9e6fd67",
   "metadata": {},
   "source": [
    "This notebook is about implementing relative positional encoding introduced in [Shaw et al (2018)](https://arxiv.org/pdf/1803.02155.pdf) and refined by [Huang et al (2018)](https://arxiv.org/pdf/1809.04281.pdf)\n",
    "\n",
    "Shaw et al. originally introduce two learming parameters ($L^2 D$ size, where $L$ is seq len and $D$ is hidden dimension) to added in both keys and values when computing attentions.\n",
    "\n",
    "$$\n",
    "e_{ij} = \\frac{x_i W^Q(x_jW^K + a_{ij}^K)^T}{\\sqrt{d}} \\tag{1}\n",
    "$$\n",
    "\n",
    "$$\n",
    "\\alpha_{ij} = \\frac{e^{e_{ij}}}{\\sum_{k=1}^{k=n}e^{e_{ik}}}\n",
    "$$\n",
    "\n",
    "And also to the values:\n",
    "$\n",
    "z_i = \\sum_{j=1}^{j=n}\\alpha_{ij}(x_j W^V + a_{ij}^V) \\tag{2}\n",
    "$"
   ]
  },
  {
   "cell_type": "markdown",
   "id": "5a4e705f",
   "metadata": {},
   "source": [
    "The equation 1 is equivalent to \n",
    "\n",
    "$$\n",
    "\\text{RelativeAttention} = \\text{Softmax} \\left( \\frac{Q K^\\top + S_{rel}}{\\sqrt{D_h}} \\right) V \\tag{3}\n",
    "$$\n",
    "\n",
    "Where $R^T$ is the same as $A^K$ in equation 1\n",
    "$$\n",
    "Srel = Q R^T\n",
    "$$\n",
    "\n",
    "To address the memory concerns, Huang et al. proposed a skew algorithm by directly computing $S_{rel}$ not using intermediate $R$ at all, thus cut space to only position embedding space. While the idea of not direct computing $Srel$ is, I think the paper made a mistake in how to computing. I don't think it can be computed by adding one column, then shifting.\n",
    "\n",
    "![Skew algorithm ](img/skew_alg.png)\n",
    "\n",
    "\n",
    "Here is an illustration that paper was wrong.\n"
   ]
  },
  {
   "cell_type": "code",
   "execution_count": 6,
   "id": "77f060a0",
   "metadata": {},
   "outputs": [],
   "source": [
    "import numpy as np"
   ]
  },
  {
   "cell_type": "code",
   "execution_count": 72,
   "id": "033184ff",
   "metadata": {},
   "outputs": [],
   "source": [
    "# L is seq len\n",
    "L = 5\n",
    "\n",
    "# Hidden dimsion\n",
    "D = 1\n",
    "\n",
    "Q = np.ones((L, D))\n",
    "# Er is relative positional embeding\n",
    "Er = np.array(range(-L+1, L))\n",
    "Er = Er[:, np.newaxis]"
   ]
  },
  {
   "cell_type": "code",
   "execution_count": 73,
   "id": "eeefb7be",
   "metadata": {},
   "outputs": [
    {
     "data": {
      "text/plain": [
       "(array([[1.],\n",
       "        [1.],\n",
       "        [1.],\n",
       "        [1.],\n",
       "        [1.]]),\n",
       " array([[-4],\n",
       "        [-3],\n",
       "        [-2],\n",
       "        [-1],\n",
       "        [ 0],\n",
       "        [ 1],\n",
       "        [ 2],\n",
       "        [ 3],\n",
       "        [ 4]]))"
      ]
     },
     "execution_count": 73,
     "metadata": {},
     "output_type": "execute_result"
    }
   ],
   "source": [
    "Q,Er"
   ]
  },
  {
   "cell_type": "code",
   "execution_count": 74,
   "id": "c899c3fc",
   "metadata": {},
   "outputs": [],
   "source": [
    "QEr = Q @ Er.T"
   ]
  },
  {
   "cell_type": "code",
   "execution_count": 75,
   "id": "f94eb7ab",
   "metadata": {
    "scrolled": true
   },
   "outputs": [
    {
     "data": {
      "text/plain": [
       "array([[-4., -3., -2., -1.,  0.,  1.,  2.,  3.,  4.],\n",
       "       [-4., -3., -2., -1.,  0.,  1.,  2.,  3.,  4.],\n",
       "       [-4., -3., -2., -1.,  0.,  1.,  2.,  3.,  4.],\n",
       "       [-4., -3., -2., -1.,  0.,  1.,  2.,  3.,  4.],\n",
       "       [-4., -3., -2., -1.,  0.,  1.,  2.,  3.,  4.]])"
      ]
     },
     "execution_count": 75,
     "metadata": {},
     "output_type": "execute_result"
    }
   ],
   "source": [
    "QEr"
   ]
  },
  {
   "cell_type": "code",
   "execution_count": 76,
   "id": "2a1b87d3",
   "metadata": {},
   "outputs": [],
   "source": [
    "def naive_skew(QEr):\n",
    "    rows, cols = QEr.shape\n",
    "    seq_len = rows\n",
    "    res = []\n",
    "    for q in range(rows):\n",
    "        rel_col_0 = 0 - q + seq_len - 1\n",
    "        res.append(QEr[q, rel_col_0:rel_col_0+seq_len])\n",
    "    return np.array(res)"
   ]
  },
  {
   "cell_type": "code",
   "execution_count": 77,
   "id": "02eb63f4",
   "metadata": {},
   "outputs": [
    {
     "data": {
      "text/plain": [
       "array([[ 0.,  1.,  2.,  3.,  4.],\n",
       "       [-1.,  0.,  1.,  2.,  3.],\n",
       "       [-2., -1.,  0.,  1.,  2.],\n",
       "       [-3., -2., -1.,  0.,  1.],\n",
       "       [-4., -3., -2., -1.,  0.]])"
      ]
     },
     "execution_count": 77,
     "metadata": {},
     "output_type": "execute_result"
    }
   ],
   "source": [
    "ideal_sel = naive_skew(QEr)\n",
    "ideal_sel"
   ]
  },
  {
   "cell_type": "code",
   "execution_count": 79,
   "id": "25b866c6",
   "metadata": {},
   "outputs": [
    {
     "data": {
      "text/plain": [
       "array([[-1.,  0.,  1.,  2.,  3.,  4.],\n",
       "       [-1.,  0.,  1.,  2.,  3.,  4.],\n",
       "       [-1.,  0.,  1.,  2.,  3.,  4.],\n",
       "       [-1.,  0.,  1.,  2.,  3.,  4.],\n",
       "       [-1.,  0.,  1.,  2.,  3.,  4.]])"
      ]
     },
     "execution_count": 79,
     "metadata": {},
     "output_type": "execute_result"
    }
   ],
   "source": [
    "# here is illustration the paper was wrong\n",
    "seq_len = QEr.shape[0]\n",
    "QEr = Q @ Er[-seq_len:].T\n",
    "\n",
    "# pad a dummy column vector of length L before the leftmost column\n",
    "seq_len = QEr.shape[0]\n",
    "QEr_pad = np.pad(QEr, ((0, 0), (1, 0)), constant_values=(-1, -1))\n",
    "QEr_pad"
   ]
  },
  {
   "cell_type": "code",
   "execution_count": 80,
   "id": "ef6f82fc",
   "metadata": {},
   "outputs": [
    {
     "data": {
      "text/plain": [
       "(5, 6)"
      ]
     },
     "execution_count": 80,
     "metadata": {},
     "output_type": "execute_result"
    }
   ],
   "source": [
    "QEr_pad.shape"
   ]
  },
  {
   "cell_type": "code",
   "execution_count": 81,
   "id": "ff87ae75",
   "metadata": {
    "scrolled": true
   },
   "outputs": [
    {
     "data": {
      "text/plain": [
       "array([[-1.,  0.,  1.,  2.,  3.],\n",
       "       [ 4., -1.,  0.,  1.,  2.],\n",
       "       [ 3.,  4., -1.,  0.,  1.],\n",
       "       [ 2.,  3.,  4., -1.,  0.],\n",
       "       [ 1.,  2.,  3.,  4., -1.],\n",
       "       [ 0.,  1.,  2.,  3.,  4.]])"
      ]
     },
     "execution_count": 81,
     "metadata": {},
     "output_type": "execute_result"
    }
   ],
   "source": [
    "#Reshape it to (seq_len+1, seq_len)\n",
    "QEr_shaped = QEr_pad.reshape((seq_len+1, -1))\n",
    "QEr_shaped"
   ]
  },
  {
   "cell_type": "code",
   "execution_count": 70,
   "id": "a3eee829",
   "metadata": {},
   "outputs": [
    {
     "data": {
      "text/plain": [
       "array([[ 4., -1.,  0.,  1.,  2.],\n",
       "       [ 3.,  4., -1.,  0.,  1.],\n",
       "       [ 2.,  3.,  4., -1.,  0.],\n",
       "       [ 1.,  2.,  3.,  4., -1.],\n",
       "       [ 0.,  1.,  2.,  3.,  4.]])"
      ]
     },
     "execution_count": 70,
     "metadata": {},
     "output_type": "execute_result"
    }
   ],
   "source": [
    "Sel = QEr_shaped[1:]\n",
    "Sel"
   ]
  },
  {
   "cell_type": "code",
   "execution_count": 84,
   "id": "083d06a9",
   "metadata": {},
   "outputs": [
    {
     "data": {
      "text/plain": [
       "array([[ 0.,  1.,  2.,  3.,  4.],\n",
       "       [-1.,  0.,  1.,  2.,  3.],\n",
       "       [-2., -1.,  0.,  1.,  2.],\n",
       "       [-3., -2., -1.,  0.,  1.],\n",
       "       [-4., -3., -2., -1.,  0.]])"
      ]
     },
     "execution_count": 84,
     "metadata": {},
     "output_type": "execute_result"
    }
   ],
   "source": [
    "ideal_sel"
   ]
  },
  {
   "cell_type": "code",
   "execution_count": 85,
   "id": "1d456d4a",
   "metadata": {},
   "outputs": [
    {
     "data": {
      "text/plain": [
       "False"
      ]
     },
     "execution_count": 85,
     "metadata": {},
     "output_type": "execute_result"
    }
   ],
   "source": [
    "np.allclose(ideal_sel, Sel)"
   ]
  },
  {
   "cell_type": "code",
   "execution_count": 107,
   "id": "f0cf00ad",
   "metadata": {},
   "outputs": [],
   "source": [
    "QEr = Q @ Er.T\n",
    "\n",
    "def skew(QEr):\n",
    "    seq_len = QEr.shape[0]\n",
    "    q_ind = np.arange(seq_len)[:, None]\n",
    "    k_ind = np.arange(seq_len)[None, :]\n",
    "    col_ind = k_ind - q_ind + seq_len - 1\n",
    "    return QEr[q_ind, col_ind]\n"
   ]
  },
  {
   "cell_type": "code",
   "execution_count": 108,
   "id": "eaaeb470",
   "metadata": {},
   "outputs": [
    {
     "data": {
      "text/plain": [
       "array([[ 0.,  1.,  2.,  3.,  4.],\n",
       "       [-1.,  0.,  1.,  2.,  3.],\n",
       "       [-2., -1.,  0.,  1.,  2.],\n",
       "       [-3., -2., -1.,  0.,  1.],\n",
       "       [-4., -3., -2., -1.,  0.]])"
      ]
     },
     "execution_count": 108,
     "metadata": {},
     "output_type": "execute_result"
    }
   ],
   "source": [
    "sel = skew(QEr)\n",
    "sel"
   ]
  },
  {
   "cell_type": "code",
   "execution_count": 111,
   "id": "07688bc1",
   "metadata": {},
   "outputs": [
    {
     "data": {
      "text/plain": [
       "True"
      ]
     },
     "execution_count": 111,
     "metadata": {},
     "output_type": "execute_result"
    }
   ],
   "source": [
    "np.allclose(ideal_sel, sel)"
   ]
  },
  {
   "cell_type": "code",
   "execution_count": 112,
   "id": "febade95",
   "metadata": {},
   "outputs": [],
   "source": [
    "# torch version\n",
    "import torch"
   ]
  },
  {
   "cell_type": "code",
   "execution_count": 117,
   "id": "a93eae4e",
   "metadata": {},
   "outputs": [
    {
     "data": {
      "text/plain": [
       "(tensor([[1.],\n",
       "         [1.],\n",
       "         [1.],\n",
       "         [1.],\n",
       "         [1.]]),\n",
       " tensor([[-4.],\n",
       "         [-3.],\n",
       "         [-2.],\n",
       "         [-1.],\n",
       "         [ 0.],\n",
       "         [ 1.],\n",
       "         [ 2.],\n",
       "         [ 3.],\n",
       "         [ 4.]]))"
      ]
     },
     "execution_count": 117,
     "metadata": {},
     "output_type": "execute_result"
    }
   ],
   "source": [
    "# L is seq len\n",
    "L = 5\n",
    "\n",
    "# Hidden dimsion\n",
    "D = 1\n",
    "\n",
    "Q = torch.ones((L, D), dtype=torch.float32)\n",
    "# Er is relative positional embeding\n",
    "Er = torch.arange(-L+1, L, dtype=torch.float32).reshape((-1, D))\n",
    "Q, Er"
   ]
  },
  {
   "cell_type": "code",
   "execution_count": 118,
   "id": "2be12af4",
   "metadata": {},
   "outputs": [],
   "source": [
    "def skew(QEr):\n",
    "    seq_len = QEr.shape[0]\n",
    "    q_ind = torch.arange(seq_len)[:, None]\n",
    "    k_ind = torch.arange(seq_len)[None, :]\n",
    "    col_ind = k_ind - q_ind + seq_len - 1\n",
    "    return QEr[q_ind, col_ind]"
   ]
  },
  {
   "cell_type": "code",
   "execution_count": 120,
   "id": "90e45a16",
   "metadata": {},
   "outputs": [
    {
     "data": {
      "text/plain": [
       "tensor([[-4., -3., -2., -1.,  0.,  1.,  2.,  3.,  4.],\n",
       "        [-4., -3., -2., -1.,  0.,  1.,  2.,  3.,  4.],\n",
       "        [-4., -3., -2., -1.,  0.,  1.,  2.,  3.,  4.],\n",
       "        [-4., -3., -2., -1.,  0.,  1.,  2.,  3.,  4.],\n",
       "        [-4., -3., -2., -1.,  0.,  1.,  2.,  3.,  4.]])"
      ]
     },
     "execution_count": 120,
     "metadata": {},
     "output_type": "execute_result"
    }
   ],
   "source": [
    "QEr = Q @ Er.T\n",
    "QEr"
   ]
  },
  {
   "cell_type": "code",
   "execution_count": 121,
   "id": "260adec4",
   "metadata": {},
   "outputs": [
    {
     "data": {
      "text/plain": [
       "tensor([[ 0.,  1.,  2.,  3.,  4.],\n",
       "        [-1.,  0.,  1.,  2.,  3.],\n",
       "        [-2., -1.,  0.,  1.,  2.],\n",
       "        [-3., -2., -1.,  0.,  1.],\n",
       "        [-4., -3., -2., -1.,  0.]])"
      ]
     },
     "execution_count": 121,
     "metadata": {},
     "output_type": "execute_result"
    }
   ],
   "source": [
    "skew(QEr)"
   ]
  },
  {
   "cell_type": "code",
   "execution_count": null,
   "id": "087495f7",
   "metadata": {},
   "outputs": [],
   "source": []
  }
 ],
 "metadata": {
  "kernelspec": {
   "display_name": "Python 3 (ipykernel)",
   "language": "python",
   "name": "python3"
  },
  "language_info": {
   "codemirror_mode": {
    "name": "ipython",
    "version": 3
   },
   "file_extension": ".py",
   "mimetype": "text/x-python",
   "name": "python",
   "nbconvert_exporter": "python",
   "pygments_lexer": "ipython3",
   "version": "3.10.10"
  }
 },
 "nbformat": 4,
 "nbformat_minor": 5
}
