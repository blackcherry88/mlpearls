{
 "cells": [
  {
   "cell_type": "code",
   "execution_count": 2,
   "id": "567ca480",
   "metadata": {},
   "outputs": [
    {
     "name": "stdout",
     "output_type": "stream",
     "text": [
      "The autoreload extension is already loaded. To reload it, use:\n",
      "  %reload_ext autoreload\n"
     ]
    }
   ],
   "source": [
    "%load_ext autoreload\n",
    "%autoreload 2\n",
    "%matplotlib inline"
   ]
  },
  {
   "cell_type": "code",
   "execution_count": 32,
   "id": "ba75a48b",
   "metadata": {},
   "outputs": [],
   "source": [
    "import torch\n",
    "import torch.nn as nn\n",
    "\n",
    "\n",
    "# Batch size\n",
    "B = 10\n",
    "# src sequence size\n",
    "SRC = 40\n",
    "# d_model size\n",
    "D = 512\n",
    "# sequence size\n",
    "S = TGT = 32\n",
    "\n",
    "# header size\n",
    "H = 16\n",
    "L = 12\n",
    "\n",
    "transformer_model = nn.Transformer(d_model=D, nhead=H, \n",
    "                                num_encoder_layers=L,\n",
    "                                batch_first=True)"
   ]
  },
  {
   "cell_type": "code",
   "execution_count": 33,
   "id": "c2d417e3",
   "metadata": {},
   "outputs": [],
   "source": [
    "src = torch.rand((B, SRC, D))\n",
    "tgt = torch.rand((B, S, D))\n",
    "out = transformer_model(src, tgt)"
   ]
  },
  {
   "cell_type": "code",
   "execution_count": 34,
   "id": "b2732c83",
   "metadata": {},
   "outputs": [],
   "source": [
    "assert out.shape == torch.Size((B, S, D))"
   ]
  },
  {
   "cell_type": "code",
   "execution_count": 35,
   "id": "0a4852df",
   "metadata": {},
   "outputs": [
    {
     "data": {
      "text/plain": [
       "tensor([[0., -inf, -inf,  ..., -inf, -inf, -inf],\n",
       "        [0., 0., -inf,  ..., -inf, -inf, -inf],\n",
       "        [0., 0., 0.,  ..., -inf, -inf, -inf],\n",
       "        ...,\n",
       "        [0., 0., 0.,  ..., 0., -inf, -inf],\n",
       "        [0., 0., 0.,  ..., 0., 0., -inf],\n",
       "        [0., 0., 0.,  ..., 0., 0., 0.]])"
      ]
     },
     "execution_count": 35,
     "metadata": {},
     "output_type": "execute_result"
    }
   ],
   "source": [
    "# how to create up triangle matrix\n",
    "torch.triu(torch.full((S, S), float('-inf')), diagonal=1)"
   ]
  },
  {
   "cell_type": "code",
   "execution_count": 42,
   "id": "694a6d2f",
   "metadata": {},
   "outputs": [],
   "source": [
    "# Encoder\n",
    "\n",
    "encoder_layer = nn.TransformerEncoderLayer(d_model=D, nhead=H, batch_first=True)\n",
    "transformer_encoder = nn.TransformerEncoder(encoder_layer, num_layers=L)\n",
    "src = torch.rand(B, SRC, D)\n",
    "out = transformer_encoder(src)"
   ]
  },
  {
   "cell_type": "code",
   "execution_count": 43,
   "id": "9a5a9d8a",
   "metadata": {},
   "outputs": [
    {
     "data": {
      "text/plain": [
       "torch.Size([10, 40, 512])"
      ]
     },
     "execution_count": 43,
     "metadata": {},
     "output_type": "execute_result"
    }
   ],
   "source": [
    "out.shape"
   ]
  },
  {
   "cell_type": "code",
   "execution_count": 44,
   "id": "53b20d83",
   "metadata": {},
   "outputs": [],
   "source": [
    "assert out.shape == torch.Size([B, SRC, D])"
   ]
  },
  {
   "cell_type": "code",
   "execution_count": 46,
   "id": "31167e95",
   "metadata": {},
   "outputs": [],
   "source": [
    "# Decoder\n",
    "\n",
    "decoder_layer = nn.TransformerDecoderLayer(d_model=D, nhead=H, batch_first=True)\n",
    "transformer_decoder = nn.TransformerDecoder(decoder_layer, num_layers=L)\n",
    "\n",
    "memory = torch.rand(B, SRC, D)\n",
    "tgt = tgt = torch.rand((B, S, D))\n",
    "out = transformer_decoder(tgt, memory)"
   ]
  },
  {
   "cell_type": "code",
   "execution_count": 47,
   "id": "9b1b1bc3",
   "metadata": {},
   "outputs": [
    {
     "data": {
      "text/plain": [
       "torch.Size([10, 32, 512])"
      ]
     },
     "execution_count": 47,
     "metadata": {},
     "output_type": "execute_result"
    }
   ],
   "source": [
    "out.shape"
   ]
  },
  {
   "cell_type": "code",
   "execution_count": 48,
   "id": "dbcf7f45",
   "metadata": {},
   "outputs": [],
   "source": [
    "assert out.shape == torch.Size([B, S, D])"
   ]
  },
  {
   "cell_type": "code",
   "execution_count": 49,
   "id": "5421fadc",
   "metadata": {},
   "outputs": [],
   "source": [
    "# Encoder Layer\n",
    "\n",
    "encoder_layer = nn.TransformerEncoderLayer(d_model=D, nhead=H, batch_first=True)\n",
    "src = torch.rand(B, SRC, D)\n",
    "out = encoder_layer(src)"
   ]
  },
  {
   "cell_type": "code",
   "execution_count": 51,
   "id": "3ace3b0e",
   "metadata": {},
   "outputs": [],
   "source": [
    "assert out.shape == torch.Size((B, SRC, D))"
   ]
  },
  {
   "cell_type": "code",
   "execution_count": 52,
   "id": "45cebb1c",
   "metadata": {},
   "outputs": [],
   "source": [
    "# Decoder Layer\n",
    "\n",
    "decoder_layer = nn.TransformerDecoderLayer(d_model=D, nhead=H, batch_first=True)\n",
    "memory = torch.rand(B, SRC, D)\n",
    "tgt = tgt = torch.rand((B, S, D))\n",
    "out = decoder_layer(tgt, memory)"
   ]
  },
  {
   "cell_type": "code",
   "execution_count": 54,
   "id": "3a71000b",
   "metadata": {},
   "outputs": [],
   "source": [
    "assert out.shape == torch.Size((B, S, D))"
   ]
  },
  {
   "cell_type": "code",
   "execution_count": 55,
   "id": "17e0dd16",
   "metadata": {},
   "outputs": [],
   "source": [
    "# Multhead attention\n",
    "\n",
    "multihead_attn = nn.MultiheadAttention(embed_dim=D, num_heads=H, batch_first=True)\n",
    "\n",
    "query = torch.rand((B, S, D))\n",
    "key = torch.rand((B, S, D))\n",
    "value = torch.rand((B, S, D))\n",
    "\n",
    "attn_output, attn_output_weights = multihead_attn(query, key, value)"
   ]
  },
  {
   "cell_type": "code",
   "execution_count": 56,
   "id": "9ba2cea8",
   "metadata": {},
   "outputs": [
    {
     "data": {
      "text/plain": [
       "torch.Size([10, 32, 512])"
      ]
     },
     "execution_count": 56,
     "metadata": {},
     "output_type": "execute_result"
    }
   ],
   "source": [
    "attn_output.shape"
   ]
  },
  {
   "cell_type": "code",
   "execution_count": 57,
   "id": "17758ee6",
   "metadata": {},
   "outputs": [],
   "source": [
    "assert attn_output.shape == query.shape"
   ]
  },
  {
   "cell_type": "code",
   "execution_count": 58,
   "id": "ad7f4bc8",
   "metadata": {},
   "outputs": [
    {
     "data": {
      "text/plain": [
       "torch.Size([10, 32, 32])"
      ]
     },
     "execution_count": 58,
     "metadata": {},
     "output_type": "execute_result"
    }
   ],
   "source": [
    "attn_output_weights.shape"
   ]
  },
  {
   "cell_type": "code",
   "execution_count": 59,
   "id": "4fcb191d",
   "metadata": {},
   "outputs": [],
   "source": [
    "assert attn_output_weights.shape == torch.Size((B, S, S))"
   ]
  },
  {
   "cell_type": "code",
   "execution_count": null,
   "id": "0a9c98e5",
   "metadata": {},
   "outputs": [],
   "source": []
  }
 ],
 "metadata": {
  "kernelspec": {
   "display_name": "Python 3 (ipykernel)",
   "language": "python",
   "name": "python3"
  },
  "language_info": {
   "codemirror_mode": {
    "name": "ipython",
    "version": 3
   },
   "file_extension": ".py",
   "mimetype": "text/x-python",
   "name": "python",
   "nbconvert_exporter": "python",
   "pygments_lexer": "ipython3",
   "version": "3.10.11"
  }
 },
 "nbformat": 4,
 "nbformat_minor": 5
}
