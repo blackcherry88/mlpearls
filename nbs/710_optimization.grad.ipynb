{
 "cells": [
  {
   "cell_type": "raw",
   "metadata": {},
   "source": [
    "---\n",
    "{}\n",
    "\n",
    "---\n",
    "\n"
   ]
  },
  {
   "cell_type": "code",
   "execution_count": 1,
   "id": "1c4f3aba",
   "metadata": {},
   "outputs": [],
   "source": [
    "%load_ext autoreload\n",
    "%autoreload 2"
   ]
  },
  {
   "cell_type": "code",
   "execution_count": 2,
   "id": "e720db82",
   "metadata": {},
   "outputs": [],
   "source": [
    "#| default_exp optimization.grad\n",
    "from nbdev.showdoc import show_doc"
   ]
  },
  {
   "cell_type": "code",
   "execution_count": 3,
   "id": "537c391a",
   "metadata": {},
   "outputs": [],
   "source": [
    "#| export\n",
    "import numpy as np\n",
    "\n",
    "def naive_grad(f): \n",
    "    '''\n",
    "    CENTRAL FINITE DIFFERENCE CALCULATION\n",
    "    '''\n",
    "    def _grad(x):\n",
    "        h = np.cbrt(np.finfo(float).eps)\n",
    "        d = len(x)\n",
    "        nabla = np.zeros(d)\n",
    "        for i in range(d): \n",
    "            x_for = np.copy(x) \n",
    "            x_back = np.copy(x)\n",
    "            x_for[i] += h \n",
    "            x_back[i] -= h \n",
    "            nabla[i] = (f(x_for) - f(x_back))/(2*h) \n",
    "        return nabla\n",
    "    \n",
    "    return _grad"
   ]
  },
  {
   "cell_type": "code",
   "execution_count": 4,
   "id": "ad5d3d71",
   "metadata": {},
   "outputs": [],
   "source": [
    "#test\n",
    "from ml.optimization.himmelblau import himmelblau, grad_himmelblau\n",
    "\n",
    "def f(x):\n",
    "    return himmelblau(*x)\n",
    "\n",
    "g_f = naive_grad(f)\n",
    "x = np.array([1.0, 2.0])\n",
    "g_x = g_f(x)\n",
    "g_x2 = grad_himmelblau(x[0], x[1])\n",
    "assert np.allclose(g_x, g_x2)"
   ]
  },
  {
   "cell_type": "code",
   "execution_count": null,
   "id": "27e483a5",
   "metadata": {},
   "outputs": [],
   "source": []
  }
 ],
 "metadata": {
  "kernelspec": {
   "display_name": "Python 3 (ipykernel)",
   "language": "python",
   "name": "python3"
  },
  "language_info": {
   "codemirror_mode": {
    "name": "ipython",
    "version": 3
   },
   "file_extension": ".py",
   "mimetype": "text/x-python",
   "name": "python",
   "nbconvert_exporter": "python",
   "pygments_lexer": "ipython3",
   "version": "3.10.4"
  }
 },
 "nbformat": 4,
 "nbformat_minor": 5
}
