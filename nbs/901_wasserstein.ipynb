{
 "cells": [
  {
   "cell_type": "raw",
   "metadata": {},
   "source": [
    "---\n",
    "{}\n",
    "\n",
    "---\n",
    "\n"
   ]
  },
  {
   "cell_type": "markdown",
   "id": "ee6b1134",
   "metadata": {},
   "source": [
    "borrowed from the excellent blog: https://vincentherrmann.github.io/blog/wasserstein/"
   ]
  },
  {
   "cell_type": "code",
   "execution_count": 1,
   "id": "f46f1c29",
   "metadata": {},
   "outputs": [],
   "source": [
    "#| include: false\n",
    "%matplotlib inline\n",
    "import numpy as np\n",
    "from matplotlib import pyplot as plt"
   ]
  },
  {
   "cell_type": "code",
   "execution_count": 3,
   "id": "f18f6a3b",
   "metadata": {},
   "outputs": [
    {
     "name": "stdout",
     "output_type": "stream",
     "text": [
      "P_r:\n"
     ]
    },
    {
     "data": {
      "image/png": "[encoded data removed]",
      "text/plain": [
       "<Figure size 432x288 with 1 Axes>"
      ]
     },
     "metadata": {
      "needs_background": "light"
     },
     "output_type": "display_data"
    },
    {
     "name": "stdout",
     "output_type": "stream",
     "text": [
      "P_t:\n"
     ]
    },
    {
     "data": {
      "image/png": "[encoded data removed]",
      "text/plain": [
       "<Figure size 432x288 with 1 Axes>"
      ]
     },
     "metadata": {
      "needs_background": "light"
     },
     "output_type": "display_data"
    }
   ],
   "source": [
    "sz = 10\n",
    "\n",
    "P_r = np.array([12,7,4,1,19,14,9,6,3,2])\n",
    "P_t = np.array([1,5,11,17,13,9,6,4,3,2])\n",
    "P_r = P_r / np.sum(P_r)\n",
    "P_t = P_t / np.sum(P_t)\n",
    "\n",
    "plt.bar(range(l), P_r, 1, color='blue', alpha=1)\n",
    "plt.axis('off')\n",
    "plt.ylim(0, 0.5)\n",
    "print(\"P_r:\")\n",
    "plt.show()\n",
    "\n",
    "plt.bar(range(l), P_t, 1, color='green', alpha=1)\n",
    "plt.axis('off')\n",
    "plt.ylim(0, 0.5)\n",
    "print(\"P_t:\")\n",
    "plt.show()"
   ]
  },
  {
   "cell_type": "markdown",
   "id": "715c155d",
   "metadata": {},
   "source": [
    "The primal moving earth problem:\n",
    "1. $D$ is the distance\n",
    "2. $x$, the solution, not shown in below, is the transport plan, that is $\\gamma$ in the blog.\n",
    "3. $A$ is an (2*sz, szXsz) tensor, its transpose indicates whether the transport plan involving moving mass from position $i$ to position $j$. (Check the blog for details)\n",
    "4. $b$ is the original distriubtion, which satisfies marginal $x$ is $b$."
   ]
  },
  {
   "cell_type": "code",
   "execution_count": 5,
   "id": "5e960928",
   "metadata": {},
   "outputs": [
    {
     "data": {
      "text/plain": [
       "array([[0., 1., 2., 3., 4., 5., 6., 7., 8., 9.],\n",
       "       [1., 0., 1., 2., 3., 4., 5., 6., 7., 8.],\n",
       "       [2., 1., 0., 1., 2., 3., 4., 5., 6., 7.],\n",
       "       [3., 2., 1., 0., 1., 2., 3., 4., 5., 6.],\n",
       "       [4., 3., 2., 1., 0., 1., 2., 3., 4., 5.],\n",
       "       [5., 4., 3., 2., 1., 0., 1., 2., 3., 4.],\n",
       "       [6., 5., 4., 3., 2., 1., 0., 1., 2., 3.],\n",
       "       [7., 6., 5., 4., 3., 2., 1., 0., 1., 2.],\n",
       "       [8., 7., 6., 5., 4., 3., 2., 1., 0., 1.],\n",
       "       [9., 8., 7., 6., 5., 4., 3., 2., 1., 0.]])"
      ]
     },
     "execution_count": 5,
     "metadata": {},
     "output_type": "execute_result"
    }
   ],
   "source": [
    "# the primal moving earth problem\n",
    "\n",
    "D = np.ndarray(shape=(sz, sz))\n",
    "\n",
    "for i in range(sz):\n",
    "    for j in range(sz):\n",
    "        D[i,j] = abs(i-j)\n",
    "        \n",
    "D"
   ]
  },
  {
   "cell_type": "code",
   "execution_count": 6,
   "id": "93bf6765",
   "metadata": {},
   "outputs": [
    {
     "name": "stdout",
     "output_type": "stream",
     "text": [
      "A: \n",
      " [[1. 1. 1. ... 0. 0. 0.]\n",
      " [0. 0. 0. ... 0. 0. 0.]\n",
      " [0. 0. 0. ... 0. 0. 0.]\n",
      " ...\n",
      " [0. 0. 0. ... 1. 0. 0.]\n",
      " [0. 0. 0. ... 0. 1. 0.]\n",
      " [0. 0. 0. ... 0. 0. 1.]] \n",
      "\n"
     ]
    }
   ],
   "source": [
    "A_r = np.zeros((sz, sz, sz))\n",
    "A_t = np.zeros((sz, sz, sz))\n",
    "\n",
    "for i in range(sz):\n",
    "    for j in range(sz):\n",
    "        A_r[i, i, j] = 1\n",
    "        A_t[i, j, i] = 1\n",
    "\n",
    "A = np.concatenate((A_r.reshape((sz, sz**2)), A_t.reshape((sz, sz**2))), axis=0)\n",
    "print(\"A: \\n\", A, \"\\n\")\n",
    "\n",
    "b = np.concatenate((P_r, P_t), axis=0)\n",
    "c = D.reshape((l**2))"
   ]
  },
  {
   "cell_type": "code",
   "execution_count": 7,
   "id": "b925b534",
   "metadata": {},
   "outputs": [
    {
     "name": "stdout",
     "output_type": "stream",
     "text": [
      "EMD:  0.7062374245525824 \n",
      "\n",
      "Gamma:\n"
     ]
    },
    {
     "name": "stderr",
     "output_type": "stream",
     "text": [
      "/tmp/ipykernel_9198/2200447476.py:4: OptimizeWarning: A_eq does not appear to be of full row rank. To improve performance, check the problem formulation for redundant equality constraints.\n",
      "  opt_res = linprog(c, A_eq=A, b_eq=b, bounds=[0, None])\n"
     ]
    },
    {
     "data": {
      "image/png": "[encoded data removed]",
      "text/plain": [
       "<Figure size 432x288 with 1 Axes>"
      ]
     },
     "metadata": {
      "needs_background": "light"
     },
     "output_type": "display_data"
    },
    {
     "name": "stdout",
     "output_type": "stream",
     "text": [
      "D:\n"
     ]
    },
    {
     "data": {
      "image/png": "[encoded data removed]",
      "text/plain": [
       "<Figure size 432x288 with 1 Axes>"
      ]
     },
     "metadata": {
      "needs_background": "light"
     },
     "output_type": "display_data"
    }
   ],
   "source": [
    "from scipy.optimize import linprog\n",
    "from matplotlib import cm\n",
    "\n",
    "opt_res = linprog(c, A_eq=A, b_eq=b, bounds=[0, None])\n",
    "emd = opt_res.fun\n",
    "gamma = opt_res.x.reshape((l, l))\n",
    "print(\"EMD: \", emd, \"\\n\")\n",
    "\n",
    "plt.imshow(gamma, cmap=cm.gist_heat, interpolation='nearest')\n",
    "plt.axis('off')\n",
    "print(\"Gamma:\")\n",
    "plt.show()\n",
    "\n",
    "plt.imshow(D, cmap=cm.gist_heat, interpolation='nearest')\n",
    "plt.axis('off')\n",
    "print(\"D:\")\n",
    "plt.show()"
   ]
  },
  {
   "cell_type": "code",
   "execution_count": 8,
   "id": "04a8c18f",
   "metadata": {},
   "outputs": [
    {
     "name": "stdout",
     "output_type": "stream",
     "text": [
      "dual EMD:  0.7062374154981319\n",
      "f: \n",
      " [ 0.91470897 -0.08529103 -1.08529103 -2.08529105 -1.08529102 -0.08529102\n",
      "  0.91470897  1.91470893  0.91470901 -0.085291  ]\n"
     ]
    },
    {
     "data": {
      "image/png": "[encoded data removed]",
      "text/plain": [
       "<Figure size 432x288 with 1 Axes>"
      ]
     },
     "metadata": {
      "needs_background": "light"
     },
     "output_type": "display_data"
    },
    {
     "name": "stdout",
     "output_type": "stream",
     "text": [
      "g: \n",
      " [ 0.91470897 -0.08529103 -1.08529103 -2.08529105 -1.08529102 -0.08529102\n",
      "  0.91470897  1.91470893  0.91470901 -0.085291  ]\n"
     ]
    },
    {
     "data": {
      "image/png": "[encoded data removed]",
      "text/plain": [
       "<Figure size 432x288 with 1 Axes>"
      ]
     },
     "metadata": {
      "needs_background": "light"
     },
     "output_type": "display_data"
    }
   ],
   "source": [
    "# linprog() can only minimize the cost, because of that\n",
    "# we optimize the negative of the objective. Also, we are\n",
    "# not constrained to nonnegative values.\n",
    "opt_res = linprog(-b, A.T, c, bounds=(None, None))\n",
    "\n",
    "emd = -opt_res.fun\n",
    "f = opt_res.x[0:sz]\n",
    "g = opt_res.x[sz:]\n",
    "\n",
    "#print(dual_result)\n",
    "print(\"dual EMD: \", emd)\n",
    "\n",
    "print(\"f: \\n\", f)\n",
    "plt.plot(range(sz), f)\n",
    "plt.show()\n",
    "\n",
    "\n",
    "print(\"g: \\n\", f)\n",
    "plt.plot(range(sz), g)\n",
    "plt.show()"
   ]
  },
  {
   "cell_type": "code",
   "execution_count": 9,
   "id": "b60cfdc8",
   "metadata": {},
   "outputs": [
    {
     "data": {
      "image/png": "[encoded data removed]",
      "text/plain": [
       "<Figure size 432x288 with 1 Axes>"
      ]
     },
     "metadata": {
      "needs_background": "light"
     },
     "output_type": "display_data"
    },
    {
     "data": {
      "image/png": "[encoded data removed]",
      "text/plain": [
       "<Figure size 432x288 with 1 Axes>"
      ]
     },
     "metadata": {
      "needs_background": "light"
     },
     "output_type": "display_data"
    },
    {
     "name": "stdout",
     "output_type": "stream",
     "text": [
      "emd:  0.7062374154981317\n"
     ]
    }
   ],
   "source": [
    "plt.bar(range(sz), np.multiply(P_r, f), 1, color='blue', alpha=1)\n",
    "plt.axis('off')\n",
    "plt.ylim(-0.5, 0.5)\n",
    "plt.show()\n",
    "\n",
    "plt.bar(range(sz), np.multiply(P_t, g), 1, color='green', alpha=1)\n",
    "plt.axis('off')\n",
    "plt.ylim(-0.5, 0.5)\n",
    "plt.show()\n",
    "\n",
    "#check sum\n",
    "emd = np.sum(np.multiply(P_r, f)) + np.sum(np.multiply(P_t, g))\n",
    "print(\"emd: \", emd)"
   ]
  },
  {
   "cell_type": "code",
   "execution_count": 19,
   "id": "7682a3b9",
   "metadata": {},
   "outputs": [
    {
     "data": {
      "image/png": "[encoded data removed]",
      "text/plain": [
       "<Figure size 432x288 with 1 Axes>"
      ]
     },
     "metadata": {
      "needs_background": "light"
     },
     "output_type": "display_data"
    }
   ],
   "source": [
    "import matplotlib.colors as colors\n",
    "\n",
    "cNorm = colors.Normalize(vmin=0, vmax=l)\n",
    "colorMap = cm.ScalarMappable(norm=cNorm, cmap=cm.terrain)\n",
    "\n",
    "current_bottom = np.zeros(sz)\n",
    "\n",
    "r = range(sz)\n",
    "\n",
    "for i in r:\n",
    "    plt.bar(r, gamma[r, i], 1, \n",
    "            color=colorMap.to_rgba(r), \n",
    "            bottom=current_bottom)\n",
    "    current_bottom = current_bottom + gamma[r, i]\n",
    "\n",
    "plt.axis('off')\n",
    "plt.ylim(0, 0.5)\n",
    "plt.show()"
   ]
  },
  {
   "cell_type": "code",
   "execution_count": 17,
   "id": "af208c16",
   "metadata": {},
   "outputs": [
    {
     "data": {
      "image/png": "[encoded data removed]",
      "text/plain": [
       "<Figure size 432x288 with 1 Axes>"
      ]
     },
     "metadata": {
      "needs_background": "light"
     },
     "output_type": "display_data"
    }
   ],
   "source": [
    "current_bottom = np.zeros(sz)\n",
    "r = range(sz)\n",
    "\n",
    "for i in r:\n",
    "    plt.bar(r, gamma[i, r], 1, color=colorMap.to_rgba(i), bottom=current_bottom)\n",
    "    current_bottom = current_bottom + gamma[i, r]\n",
    "\n",
    "plt.axis('off')\n",
    "plt.ylim(0, 0.5)\n",
    "plt.show()"
   ]
  },
  {
   "cell_type": "code",
   "execution_count": null,
   "id": "da787378",
   "metadata": {},
   "outputs": [],
   "source": []
  }
 ],
 "metadata": {
  "kernelspec": {
   "display_name": "Python 3 (ipykernel)",
   "language": "python",
   "name": "python3"
  },
  "language_info": {
   "codemirror_mode": {
    "name": "ipython",
    "version": 3
   },
   "file_extension": ".py",
   "mimetype": "text/x-python",
   "name": "python",
   "nbconvert_exporter": "python",
   "pygments_lexer": "ipython3",
   "version": "3.10.4"
  }
 },
 "nbformat": 4,
 "nbformat_minor": 5
}
