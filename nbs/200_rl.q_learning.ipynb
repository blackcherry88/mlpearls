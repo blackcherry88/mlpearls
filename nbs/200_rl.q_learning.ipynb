{
 "cells": [
  {
   "cell_type": "raw",
   "metadata": {},
   "source": [
    "---\n",
    "{}\n",
    "\n",
    "---\n",
    "\n"
   ]
  },
  {
   "cell_type": "code",
   "execution_count": 1,
   "id": "1c4f3aba",
   "metadata": {},
   "outputs": [],
   "source": [
    "%load_ext autoreload\n",
    "%autoreload 2"
   ]
  },
  {
   "cell_type": "code",
   "execution_count": 2,
   "id": "f9e1d06a",
   "metadata": {},
   "outputs": [],
   "source": [
    "import numpy as np\n",
    "import gym"
   ]
  },
  {
   "cell_type": "code",
   "execution_count": 3,
   "id": "2b4f72ab",
   "metadata": {},
   "outputs": [
    {
     "data": {
      "text/plain": [
       "(16, 4)"
      ]
     },
     "execution_count": 3,
     "metadata": {},
     "output_type": "execute_result"
    }
   ],
   "source": [
    "env = gym.make(\"FrozenLake-v1\")\n",
    "n_obs = env.observation_space.n\n",
    "n_acts = env.action_space.n\n",
    "n_obs, n_acts"
   ]
  },
  {
   "cell_type": "code",
   "execution_count": 5,
   "id": "80944508",
   "metadata": {},
   "outputs": [],
   "source": [
    "#number of episode we will run\n",
    "n_episodes = 10000\n",
    "\n",
    "#maximum of iteration per episode\n",
    "max_iter_episode = 100\n",
    "\n",
    "#discounted factor\n",
    "gamma = 0.99\n",
    "\n",
    "#learning rate\n",
    "lr = 0.1"
   ]
  },
  {
   "cell_type": "code",
   "execution_count": 39,
   "id": "c6485915",
   "metadata": {},
   "outputs": [],
   "source": [
    "class GreedQPolicy():\n",
    "    \n",
    "    def __init__(self, decay_rate=0.001, min_explore_prob=0.001):\n",
    "        self.base_rate = 1.0\n",
    "        self.decay_rate = decay_rate\n",
    "        self.min_explore_prob = min_explore_prob\n",
    "        \n",
    "    def get_explore_rate(self, episode):\n",
    "        return max(self.min_explore_prob, self.base_rate * np.exp(-self.decay_rate*episode))\n",
    "    "
   ]
  },
  {
   "cell_type": "code",
   "execution_count": 44,
   "id": "d0b9b4ef",
   "metadata": {},
   "outputs": [],
   "source": [
    "def estimate_q(n_episodes, \n",
    "               max_iter_episode,\n",
    "               lr = 0.1, \n",
    "               gamma = 0.99, \n",
    "               behavior_policy = GreedPolicy()):\n",
    "\n",
    "    rewards = list()\n",
    "    n_obs = env.observation_space.n\n",
    "    n_acts = env.action_space.n\n",
    "    Q_table = np.zeros((n_obs, n_acts))\n",
    "    \n",
    "    for e in range(n_episodes):\n",
    "        #we initialize the first state of the episode\n",
    "        current_state = env.reset()\n",
    "        done = False\n",
    "\n",
    "        #sum the rewards that the agent gets from the environment\n",
    "        total_episode_reward = 0\n",
    "        explore_rate = behavior_policy.get_explore_rate(e)\n",
    "\n",
    "        for i in range(max_iter_episode): \n",
    "            # we sample a float from a uniform distribution over 0 and 1\n",
    "            # if the sampled flaot is less than the exploration proba\n",
    "            #     the agent selects arandom action\n",
    "            # else\n",
    "            #     he exploits his knowledge using the bellman equation \n",
    "\n",
    "            if np.random.uniform(0,1) < explore_rate:\n",
    "                action = env.action_space.sample()\n",
    "            else:\n",
    "                action = np.argmax(Q_table[current_state,:])\n",
    "\n",
    "            # The environment runs the chosen action and returns\n",
    "            # the next state, a reward and true if the epiosed is ended.\n",
    "            next_state, reward, done, _ = env.step(action)\n",
    "\n",
    "            # We update our Q-table using the Q-learning iteration\n",
    "            Q_table[current_state, action] = (1-lr) * Q_table[current_state, action] +lr*(reward + gamma*max(Q_table[next_state,:]))\n",
    "            total_episode_reward = total_episode_reward + reward\n",
    "            # If the episode is finished, we leave the for loop\n",
    "            if done:\n",
    "                break\n",
    "            current_state = next_state\n",
    "            \n",
    "        rewards.append(total_episode_reward)\n",
    "        \n",
    "    return Q_table, rewards"
   ]
  },
  {
   "cell_type": "code",
   "execution_count": 55,
   "id": "627eff73",
   "metadata": {},
   "outputs": [],
   "source": [
    "def run_episode(env, Q_table, render=False):\n",
    "\n",
    "    observation = env.reset()\n",
    "    totalreward = 0\n",
    "\n",
    "    observations = []\n",
    "    actions = []\n",
    "    rewards = []\n",
    "\n",
    "    done = False\n",
    "\n",
    "    while not done:\n",
    "        if render:\n",
    "            env.render()\n",
    "\n",
    "        observations.append(observation)\n",
    "        action = np.argmax(Q_table[observation,:])\n",
    "        observation, reward, done, info = env.step(action)\n",
    "\n",
    "        totalreward += reward\n",
    "        rewards.append(reward)\n",
    "        actions.append(action)\n",
    "\n",
    "    return totalreward, np.array(rewards),  \\\n",
    "            np.array(observations), np.array(actions)"
   ]
  },
  {
   "cell_type": "code",
   "execution_count": 45,
   "id": "c8759192",
   "metadata": {},
   "outputs": [],
   "source": [
    "Q_table, rewards = estimate_q(n_episodes, max_iter_episode, lr, gamma)"
   ]
  },
  {
   "cell_type": "code",
   "execution_count": 42,
   "id": "cdb07ac8",
   "metadata": {},
   "outputs": [],
   "source": [
    "sz = 50\n",
    "step = len(rewards)//sz\n",
    "mean_rewards = [np.mean(rewards[step*i:step*(i+1)]) for i in range(sz)]"
   ]
  },
  {
   "cell_type": "code",
   "execution_count": 43,
   "id": "e333efdc",
   "metadata": {},
   "outputs": [
    {
     "data": {
      "image/png": "[encoded data removed]",
      "text/plain": [
       "<Figure size 432x288 with 1 Axes>"
      ]
     },
     "metadata": {
      "needs_background": "light"
     },
     "output_type": "display_data"
    }
   ],
   "source": [
    "%matplotlib inline\n",
    "import matplotlib.pyplot as plt\n",
    "\n",
    "plt.plot(mean_rewards);"
   ]
  },
  {
   "cell_type": "code",
   "execution_count": 57,
   "id": "45ea5869",
   "metadata": {},
   "outputs": [
    {
     "data": {
      "text/plain": [
       "(1.0,\n",
       " array([0., 0., 0., 0., 0., 0., 0., 0., 0., 0., 0., 0., 0., 0., 0., 0., 0.,\n",
       "        0., 0., 0., 0., 0., 0., 0., 0., 0., 0., 0., 0., 0., 0., 0., 0., 0.,\n",
       "        0., 1.]),\n",
       " array([ 0,  4,  0,  0,  0,  0,  4,  4,  4,  0,  0,  4,  0,  0,  0,  0,  4,\n",
       "         8,  9, 10,  9,  8,  4,  4,  8,  8,  8,  8,  9, 13,  9,  8,  9, 13,\n",
       "        14, 14]),\n",
       " array([0, 0, 0, 0, 0, 0, 0, 0, 0, 0, 0, 0, 0, 0, 0, 0, 0, 3, 1, 0, 1, 3,\n",
       "        0, 0, 3, 3, 3, 3, 1, 2, 1, 3, 1, 2, 1, 1], dtype=int64))"
      ]
     },
     "execution_count": 57,
     "metadata": {},
     "output_type": "execute_result"
    }
   ],
   "source": [
    "_ = run_episode(env, Q_table, render=True)"
   ]
  },
  {
   "cell_type": "code",
   "execution_count": 58,
   "id": "9e243ab5",
   "metadata": {},
   "outputs": [],
   "source": [
    "env.close()"
   ]
  },
  {
   "cell_type": "code",
   "execution_count": null,
   "id": "bc7acccf",
   "metadata": {},
   "outputs": [],
   "source": []
  }
 ],
 "metadata": {
  "kernelspec": {
   "display_name": "Python 3 (ipykernel)",
   "language": "python",
   "name": "python3"
  },
  "language_info": {
   "codemirror_mode": {
    "name": "ipython",
    "version": 3
   },
   "file_extension": ".py",
   "mimetype": "text/x-python",
   "name": "python",
   "nbconvert_exporter": "python",
   "pygments_lexer": "ipython3",
   "version": "3.8.12"
  }
 },
 "nbformat": 4,
 "nbformat_minor": 5
}
