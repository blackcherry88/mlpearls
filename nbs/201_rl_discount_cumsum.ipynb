{
 "cells": [
  {
   "cell_type": "code",
   "execution_count": 1,
   "id": "2d51b041",
   "metadata": {},
   "outputs": [],
   "source": [
    "%load_ext autoreload\n",
    "%autoreload 2"
   ]
  },
  {
   "cell_type": "code",
   "execution_count": 16,
   "id": "efbd3ac2",
   "metadata": {},
   "outputs": [],
   "source": [
    "import scipy\n",
    "\n",
    "\n",
    "def discount_cumsum(x, discount):\n",
    "    \"\"\"\n",
    "    magic from rllab for computing discounted cumulative sums of vectors.\n",
    "\n",
    "    input: \n",
    "        vector x, \n",
    "        [x0, \n",
    "         x1, \n",
    "         x2]\n",
    "\n",
    "    output:\n",
    "        [x0 + discount * x1 + discount^2 * x2,  \n",
    "         x1 + discount * x2,\n",
    "         x2]\n",
    "    \"\"\"\n",
    "    return scipy.signal.lfilter([1], [1, float(-discount)], x[::-1], axis=0)[::-1]"
   ]
  },
  {
   "cell_type": "code",
   "execution_count": 14,
   "id": "8b98ed66",
   "metadata": {},
   "outputs": [],
   "source": [
    "def naive_cumsum(x, discount):\n",
    "    s = 0\n",
    "    r = []\n",
    "    for item in reversed(x):\n",
    "        s = item + discount*s\n",
    "        r.append(s)\n",
    "    r.reverse()\n",
    "    return r"
   ]
  },
  {
   "cell_type": "code",
   "execution_count": 23,
   "id": "a795018f",
   "metadata": {},
   "outputs": [
    {
     "data": {
      "text/plain": [
       "[40937.8559, 34380.951, 27094.39, 18997.1, 9999.0]"
      ]
     },
     "execution_count": 23,
     "metadata": {},
     "output_type": "execute_result"
    }
   ],
   "source": [
    "x = list(range(10000))\n",
    "gamma = 0.9\n",
    "\n",
    "l = naive_cumsum(x, gamma)\n",
    "l[-5:]"
   ]
  },
  {
   "cell_type": "code",
   "execution_count": 24,
   "id": "dd73222f",
   "metadata": {},
   "outputs": [
    {
     "data": {
      "text/plain": [
       "array([40937.8559, 34380.951 , 27094.39  , 18997.1   ,  9999.    ])"
      ]
     },
     "execution_count": 24,
     "metadata": {},
     "output_type": "execute_result"
    }
   ],
   "source": [
    "l = discount_cumsum(x, gamma)\n",
    "l[-5:]"
   ]
  },
  {
   "cell_type": "code",
   "execution_count": 28,
   "id": "c74edfd1",
   "metadata": {},
   "outputs": [
    {
     "name": "stdout",
     "output_type": "stream",
     "text": [
      "577 µs ± 2.21 µs per loop (mean ± std. dev. of 7 runs, 1,000 loops each)\n"
     ]
    }
   ],
   "source": [
    "%timeit discount_cumsum(x, gamma)"
   ]
  },
  {
   "cell_type": "code",
   "execution_count": 27,
   "id": "1376f622",
   "metadata": {},
   "outputs": [
    {
     "name": "stdout",
     "output_type": "stream",
     "text": [
      "660 µs ± 16.5 µs per loop (mean ± std. dev. of 7 runs, 1,000 loops each)\n"
     ]
    }
   ],
   "source": [
    "%timeit naive_cumsum(x, gamma)"
   ]
  },
  {
   "cell_type": "code",
   "execution_count": null,
   "id": "3eaca31e",
   "metadata": {},
   "outputs": [],
   "source": []
  }
 ],
 "metadata": {
  "kernelspec": {
   "display_name": "Python 3 (ipykernel)",
   "language": "python",
   "name": "python3"
  },
  "language_info": {
   "codemirror_mode": {
    "name": "ipython",
    "version": 3
   },
   "file_extension": ".py",
   "mimetype": "text/x-python",
   "name": "python",
   "nbconvert_exporter": "python",
   "pygments_lexer": "ipython3",
   "version": "3.10.12"
  }
 },
 "nbformat": 4,
 "nbformat_minor": 5
}
