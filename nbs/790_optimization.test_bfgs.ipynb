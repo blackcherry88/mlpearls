{
 "cells": [
  {
   "cell_type": "raw",
   "metadata": {},
   "source": [
    "---\n",
    "{}\n",
    "\n",
    "---\n",
    "\n"
   ]
  },
  {
   "cell_type": "code",
   "execution_count": 1,
   "id": "2b40e74a",
   "metadata": {},
   "outputs": [],
   "source": [
    "%load_ext autoreload\n",
    "%autoreload 2"
   ]
  },
  {
   "cell_type": "code",
   "execution_count": 4,
   "id": "c4ca1c00",
   "metadata": {},
   "outputs": [
    {
     "name": "stdout",
     "output_type": "stream",
     "text": [
      "-1.2 -3.0 158.3936\n",
      "-2.080850251067238 -2.505831167317501 92.04632075124835\n",
      "-4.028591046482988 -2.1129619778698054 52.798964078370005\n",
      "-3.0076558631183143 -2.318889778381628 39.698300389110216\n",
      "-4.293579370151958 -2.488422662734442 50.49047268389745\n",
      "-3.5896418148213884 -2.3956173259420894 23.789087781286366\n",
      "-3.723405181965657 -2.7438729540014304 10.219624030268491\n",
      "-3.809781476448824 -3.540333490836814 2.97346654703326\n",
      "-3.7613281013859443 -3.2100931043358405 0.21241804057890246\n",
      "-3.7795528212953373 -3.2751737083072032 0.002883724464749374\n",
      "-3.7786608443452616 -3.2835095775968557 3.506849241210853e-05\n",
      "-3.779452635007674 -3.2832484440509457 1.0994110494478443e-06\n",
      "-3.779306212493775 -3.2831772247726727 3.3389727109122094e-09\n",
      "-3.7793102027675274 -3.2831863429939014 6.108980328173123e-12\n",
      "-3.7793102571423365 -3.2831859901618587 9.992025523356172e-16\n"
     ]
    },
    {
     "data": {
      "text/plain": [
       "array([-3.77931026, -3.28318599])"
      ]
     },
     "execution_count": 4,
     "metadata": {},
     "output_type": "execute_result"
    }
   ],
   "source": [
    "#| include: false\n",
    "import numpy as np\n",
    "import scipy.optimize as op\n",
    "from ml.optimization.himmelblau import *\n",
    "\n",
    "# Calculates the Himmelblau function (accepting a vector input)\n",
    "def f_vec(z):\n",
    "    ff=f(z[0],z[1])\n",
    "    print(z[0],z[1],ff)\n",
    "    return ff\n",
    "\n",
    "# Calculates the gradient of the Himmelblau function (accepting a vector input)\n",
    "def grad_f_vec(z):\n",
    "    return grad_f(z[0],z[1])\n",
    "\n",
    "# Find minimum using BFGS\n",
    "x=op.fmin_bfgs(f_vec,x0=np.array([-1.2,-3]),fprime=grad_f_vec,disp=False)\n",
    "x"
   ]
  },
  {
   "cell_type": "code",
   "execution_count": 3,
   "id": "00427d2f",
   "metadata": {},
   "outputs": [],
   "source": [
    "#test\n",
    "assert f(*x) < 1e-10"
   ]
  },
  {
   "cell_type": "code",
   "execution_count": null,
   "id": "c0cfd55d",
   "metadata": {},
   "outputs": [],
   "source": []
  }
 ],
 "metadata": {
  "kernelspec": {
   "display_name": "Python 3 (ipykernel)",
   "language": "python",
   "name": "python3"
  },
  "language_info": {
   "codemirror_mode": {
    "name": "ipython",
    "version": 3
   },
   "file_extension": ".py",
   "mimetype": "text/x-python",
   "name": "python",
   "nbconvert_exporter": "python",
   "pygments_lexer": "ipython3",
   "version": "3.10.4"
  }
 },
 "nbformat": 4,
 "nbformat_minor": 5
}
