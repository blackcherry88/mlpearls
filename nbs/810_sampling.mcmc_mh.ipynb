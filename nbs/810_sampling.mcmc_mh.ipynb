{
 "cells": [
  {
   "cell_type": "raw",
   "metadata": {},
   "source": [
    "---\n",
    "{}\n",
    "\n",
    "---\n",
    "\n"
   ]
  },
  {
   "cell_type": "code",
   "execution_count": 1,
   "id": "2af40122",
   "metadata": {},
   "outputs": [],
   "source": [
    "import numpy as np"
   ]
  },
  {
   "cell_type": "code",
   "execution_count": 2,
   "id": "02e89f0a",
   "metadata": {},
   "outputs": [],
   "source": [
    "def log_prob(x):\n",
    "     return -0.5 * np.sum(x ** 2)"
   ]
  },
  {
   "cell_type": "code",
   "execution_count": 3,
   "id": "932c04f1",
   "metadata": {},
   "outputs": [],
   "source": [
    "def proposal(x, step=1.0):\n",
    "    # uniform correction is 1.0\n",
    "    return np.random.uniform(low  = x - 0.5 * step,\n",
    "                             high = x + 0.5 * step,\n",
    "                             size = x.shape), 1.0"
   ]
  },
  {
   "cell_type": "code",
   "execution_count": 4,
   "id": "d757e18a",
   "metadata": {},
   "outputs": [],
   "source": [
    "def mh_sample(size, f_log_prob, f_proposal, x0):\n",
    "    chain = [x0]\n",
    "    n_accepted = np.zeros((x0.shape))\n",
    "    x = x0\n",
    "    for _ in range(size):\n",
    "        x_new, correction = f_proposal(x)\n",
    "        alpha = np.exp(f_log_prob(x_new) - f_log_prob(x)) * correction\n",
    "        \n",
    "        accepts = (np.random.random() <= alpha)\n",
    "        x = x_new * accepts + (~accepts)*x\n",
    "        n_accepted += accepts.sum(axis=0)\n",
    "        chain.append(x)\n",
    "\n",
    "    acceptance_rate = n_accepted / float(size)\n",
    "    return chain, acceptance_rate"
   ]
  },
  {
   "cell_type": "code",
   "execution_count": 5,
   "id": "ac6e17ff",
   "metadata": {},
   "outputs": [
    {
     "name": "stdout",
     "output_type": "stream",
     "text": [
      "Acceptance rate: [0.8909]\n",
      "Last ten states of chain: 0.46565, 0.43512, 0.21193, 0.10658, -0.27405, 0.10244, 0.38207, 0.02971, -0.05485, 0.33850\n"
     ]
    }
   ],
   "source": [
    "from functools import partial\n",
    "f_proposal = partial(proposal, step=1)\n",
    "\n",
    "size = 10000\n",
    "chain, acceptance_rate = mh_sample(\n",
    "    size,\n",
    "    log_prob,\n",
    "    f_proposal,\n",
    "    np.array([2.0]))\n",
    "chain = [state for state, in chain]\n",
    "\n",
    "print(f\"Acceptance rate: {acceptance_rate}\")\n",
    "last_states = \", \".join(\"{:.5f}\".format(state) for state in chain[-10:])\n",
    "print(f\"Last ten states of chain: {last_states}\")"
   ]
  },
  {
   "cell_type": "code",
   "execution_count": 6,
   "id": "7633b370",
   "metadata": {},
   "outputs": [],
   "source": [
    "from scipy.integrate import quad\n",
    "\n",
    "def despine(ax, spines=('top', 'left', 'right')):\n",
    "    for spine in spines:\n",
    "        ax.spines[spine].set_visible(False)\n",
    "\n",
    "def plot_samples(ax,\n",
    "                 chain, \n",
    "                 log_prob, \n",
    "                 normalize=True,\n",
    "                 orientation='vertical', \n",
    "                 xlims=(-5, 5), \n",
    "                 legend=True):\n",
    "\n",
    "    ax.hist(chain, bins=50, density=True, \n",
    "            label=\"MCMC samples\",\n",
    "            orientation=orientation)\n",
    "    \n",
    "    # compute Z\n",
    "    if normalize:\n",
    "        Z, _ = quad(lambda x: np.exp(log_prob(x)), -np.inf, np.inf)\n",
    "    else:\n",
    "        Z = 1.0\n",
    "    xses = np.linspace(xlims[0], xlims[1], 1000)\n",
    "    yses = [np.exp(log_prob(x)) / Z for x in xses]\n",
    "    if orientation == 'horizontal':\n",
    "        (yses, xses) = (xses, yses)\n",
    "    ax.plot(xses, yses, label=\"true distribution\")\n",
    "    if legend:\n",
    "        ax.legend(frameon=False)"
   ]
  },
  {
   "cell_type": "code",
   "execution_count": 7,
   "id": "f7c89e50",
   "metadata": {},
   "outputs": [],
   "source": [
    "%matplotlib notebook\n",
    "%matplotlib inline\n",
    "import numpy as np\n",
    "import matplotlib.pyplot as plt\n",
    "import seaborn as sb"
   ]
  },
  {
   "cell_type": "code",
   "execution_count": 8,
   "id": "4e596d17",
   "metadata": {},
   "outputs": [],
   "source": [
    "def sample_and_display(size, burnin, f_log_prob, f_proposal, x0):\n",
    "    chain, acceptance_rate = mh_sample(size, f_log_prob, f_proposal, x0)\n",
    "    print(f\"Acceptance rate: {acceptance_rate}\")\n",
    "    fig, ax = plt.subplots()\n",
    "    plot_samples(ax, [state for state, in chain[burnin:]], f_log_prob)\n",
    "    despine(ax)\n",
    "    ax.set_yticks(())\n",
    "    plt.show()"
   ]
  },
  {
   "cell_type": "code",
   "execution_count": 9,
   "id": "1a024956",
   "metadata": {},
   "outputs": [
    {
     "name": "stdout",
     "output_type": "stream",
     "text": [
      "Acceptance rate: [0.107]\n"
     ]
    },
    {
     "data": {
      "image/png": "[encoded data removed]",
      "text/plain": [
       "<Figure size 432x288 with 1 Axes>"
      ]
     },
     "metadata": {
      "needs_background": "light"
     },
     "output_type": "display_data"
    }
   ],
   "source": [
    "# step too large\n",
    "size = 10000\n",
    "step = 30\n",
    "burnin = 500\n",
    "x0 = np.array([2.0])\n",
    "f_proposal = partial(proposal, step=step)              \n",
    "sample_and_display(size, burnin, log_prob, f_proposal, x0)"
   ]
  },
  {
   "cell_type": "code",
   "execution_count": 10,
   "id": "6970c126",
   "metadata": {},
   "outputs": [
    {
     "name": "stdout",
     "output_type": "stream",
     "text": [
      "Acceptance rate: [0.9893]\n"
     ]
    },
    {
     "data": {
      "image/png": "[encoded data removed]",
      "text/plain": [
       "<Figure size 432x288 with 1 Axes>"
      ]
     },
     "metadata": {
      "needs_background": "light"
     },
     "output_type": "display_data"
    }
   ],
   "source": [
    "# step too small\n",
    "\n",
    "size = 10000\n",
    "step = 0.1\n",
    "burnin = 500\n",
    "x0 = np.array([2.0])\n",
    "f_proposal = partial(proposal, step=step)              \n",
    "sample_and_display(size, burnin, log_prob, f_proposal, x0)"
   ]
  },
  {
   "cell_type": "code",
   "execution_count": 11,
   "id": "b66350d8",
   "metadata": {},
   "outputs": [
    {
     "name": "stdout",
     "output_type": "stream",
     "text": [
      "Acceptance rate: [0.9038]\n"
     ]
    },
    {
     "data": {
      "image/png": "[encoded data removed]",
      "text/plain": [
       "<Figure size 432x288 with 1 Axes>"
      ]
     },
     "metadata": {
      "needs_background": "light"
     },
     "output_type": "display_data"
    }
   ],
   "source": [
    "# step is ok\n",
    "size = 10000\n",
    "step = 1\n",
    "burnin = 500\n",
    "x0 = np.array([2.0])\n",
    "f_proposal = partial(proposal, step=step)              \n",
    "sample_and_display(size, burnin, log_prob, f_proposal, x0)"
   ]
  },
  {
   "cell_type": "code",
   "execution_count": null,
   "id": "65280029",
   "metadata": {},
   "outputs": [],
   "source": []
  }
 ],
 "metadata": {
  "kernelspec": {
   "display_name": "Python 3 (ipykernel)",
   "language": "python",
   "name": "python3"
  },
  "language_info": {
   "codemirror_mode": {
    "name": "ipython",
    "version": 3
   },
   "file_extension": ".py",
   "mimetype": "text/x-python",
   "name": "python",
   "nbconvert_exporter": "python",
   "pygments_lexer": "ipython3",
   "version": "3.8.13"
  }
 },
 "nbformat": 4,
 "nbformat_minor": 5
}
