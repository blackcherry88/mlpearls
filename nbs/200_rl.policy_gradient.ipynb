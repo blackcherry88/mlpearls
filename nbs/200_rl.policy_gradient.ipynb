{
 "cells": [
  {
   "cell_type": "raw",
   "metadata": {},
   "source": [
    "---\n",
    "{}\n",
    "\n",
    "---\n",
    "\n"
   ]
  },
  {
   "cell_type": "code",
   "execution_count": 1,
   "id": "1c4f3aba",
   "metadata": {},
   "outputs": [],
   "source": [
    "%load_ext autoreload\n",
    "%autoreload 2"
   ]
  },
  {
   "cell_type": "code",
   "execution_count": 17,
   "id": "0ebd65c3",
   "metadata": {},
   "outputs": [],
   "source": [
    "import gym\n",
    "env = gym.make('CartPole-v1')"
   ]
  },
  {
   "cell_type": "code",
   "execution_count": 3,
   "id": "5731f164",
   "metadata": {},
   "outputs": [
    {
     "data": {
      "text/plain": [
       "(4,)"
      ]
     },
     "execution_count": 3,
     "metadata": {},
     "output_type": "execute_result"
    }
   ],
   "source": [
    "env.observation_space.shape"
   ]
  },
  {
   "cell_type": "code",
   "execution_count": 4,
   "id": "301e8887",
   "metadata": {},
   "outputs": [
    {
     "data": {
      "text/plain": [
       "Discrete(2)"
      ]
     },
     "execution_count": 4,
     "metadata": {},
     "output_type": "execute_result"
    }
   ],
   "source": [
    "env.action_space"
   ]
  },
  {
   "cell_type": "code",
   "execution_count": 5,
   "id": "7abc6ef1",
   "metadata": {},
   "outputs": [],
   "source": [
    "import numpy as np\n",
    "\n",
    "def sigmoid(x):\n",
    "    # definition of logistic function\n",
    "    return 1/(1 + np.exp(-x))\n",
    "\n",
    "\n",
    "def grad_log_p_v1(theta, x):\n",
    "    # calculate grad-log-probs\n",
    "\n",
    "    y = x @ theta\n",
    "    grad_log_p0 = x - x * sigmoid(y)\n",
    "    grad_log_p1 = - x * sigmoid(y)\n",
    "\n",
    "    return grad_log_p0, grad_log_p1"
   ]
  },
  {
   "cell_type": "code",
   "execution_count": 6,
   "id": "eb2524f0",
   "metadata": {},
   "outputs": [],
   "source": [
    "# import jax\n",
    "# import jax.numpy as jnp\n",
    "# import jax.nn as nn\n",
    "\n",
    "\n",
    "# # we only use jax for gradient\n",
    "# @jax.jit\n",
    "# def log_sigmoid(theta, x):\n",
    "#     y = x @ theta\n",
    "#     return nn.log_sigmoid(y)\n",
    "\n",
    "# @jax.jit\n",
    "# def grad_log_p_helper(theta, x):\n",
    "#     theta = jnp.array(theta)\n",
    "#     x = jnp.array(x)\n",
    "#     grad_log_p0 = jax.grad(log_sigmoid, argnums=0)(theta, x)\n",
    "#     # grad_log_p1 = jax.grad(log_sigmoid, argnums=0)(theta, -x)\n",
    "#     return grad_log_p0, grad_log_p0 - x\n",
    "\n",
    "\n",
    "# def grad_log_p(theta, x):\n",
    "#     grad_log_p0, grad_log_p1 = grad_log_p_helper(theta, x)\n",
    "#     return np.array(grad_log_p0), np.array(grad_log_p1)\n",
    "\n",
    "\n",
    "# theta = jnp.array((1.0, 1.0))\n",
    "# x = jnp.array((1.0, 2.0))\n",
    "\n",
    "# nn.sigmoid(x@theta), nn.log_sigmoid(x@theta), grad_log_p(theta, x)"
   ]
  },
  {
   "cell_type": "code",
   "execution_count": 7,
   "id": "ff3b1039",
   "metadata": {},
   "outputs": [],
   "source": [
    "def discount_rewards(rewards, gamma=1.0):\n",
    "    # calculate temporally adjusted, discounted rewards\n",
    "    discounted_rewards = np.zeros(len(rewards))\n",
    "    cumulative_rewards = 0\n",
    "    for i in reversed(range(0, len(rewards))):\n",
    "        cumulative_rewards = cumulative_rewards * gamma + rewards[i]\n",
    "        discounted_rewards[i] = cumulative_rewards\n",
    "\n",
    "    return discounted_rewards"
   ]
  },
  {
   "cell_type": "code",
   "execution_count": 8,
   "id": "7a88d584",
   "metadata": {},
   "outputs": [],
   "source": [
    "class LogisticPolicy:\n",
    "\n",
    "    def __init__(self, alpha, gamma, ob_sz):\n",
    "        self.theta = np.random.rand(*ob_sz)\n",
    "        self.alpha = alpha\n",
    "        self.gamma = gamma\n",
    "\n",
    "    def probs(self, x):\n",
    "        # returns probabilities of two actions\n",
    "        y = x @ self.theta\n",
    "        prob0 = sigmoid(y)\n",
    "        return [prob0, 1-prob0]\n",
    "\n",
    "    def act(self, x):\n",
    "        # sample an action in proportion to probabilities\n",
    "        probs = self.probs(x)\n",
    "        action = np.random.choice([0, 1], p=probs)\n",
    "        return action, probs[action]\n",
    "    \n",
    "\n",
    "    def update(self, rewards, obs, actions):\n",
    "        # calculate gradients for each action over all observations\n",
    "        grads = np.array([grad_log_p_v1(self.theta, ob)[action] for ob,action in zip(obs,actions)])\n",
    "\n",
    "        assert grads.shape == (len(obs), 4)\n",
    "\n",
    "        # calculate temporaly adjusted, discounted rewards\n",
    "        discounted_rewards = discount_rewards(rewards, self.gamma)\n",
    "\n",
    "        # gradients times rewards\n",
    "        dot = grads.T @ discounted_rewards\n",
    "\n",
    "        # gradient ascent on parameters\n",
    "        self.theta += self.alpha*dot"
   ]
  },
  {
   "cell_type": "code",
   "execution_count": 9,
   "id": "6dfdfe40",
   "metadata": {},
   "outputs": [],
   "source": [
    "def run_episode(env, policy, render=False):\n",
    "\n",
    "    observation = env.reset()\n",
    "    totalreward = 0\n",
    "\n",
    "    observations = []\n",
    "    actions = []\n",
    "    rewards = []\n",
    "    probs = []\n",
    "\n",
    "    done = False\n",
    "\n",
    "    while not done:\n",
    "        if render:\n",
    "            env.render()\n",
    "\n",
    "        observations.append(observation)\n",
    "\n",
    "        action, prob = policy.act(observation)\n",
    "        observation, reward, done, info = env.step(np.array(action))\n",
    "\n",
    "        totalreward += reward\n",
    "        rewards.append(reward)\n",
    "        actions.append(action)\n",
    "        probs.append(prob)\n",
    "\n",
    "    return totalreward, np.array(rewards),  \\\n",
    "            np.array(observations), np.array(actions), np.array(probs)"
   ]
  },
  {
   "cell_type": "code",
   "execution_count": 10,
   "id": "a17bb301",
   "metadata": {},
   "outputs": [],
   "source": [
    "from gym.wrappers import RecordEpisodeStatistics\n",
    "\n",
    "    \n",
    "def train(alpha, gamma, Policy, MAX_EPISODES=1000, seed=None):\n",
    "\n",
    "    # initialize environment and policy\n",
    "    env = gym.make('CartPole-v1')\n",
    "    if seed is not None:\n",
    "        env.seed(seed)\n",
    "    episode_rewards = []\n",
    "    policy = Policy(alpha, gamma, env.observation_space.shape)\n",
    "\n",
    "    # train until MAX_EPISODES\n",
    "    for i in range(MAX_EPISODES):\n",
    "\n",
    "        # run a single episode\n",
    "        total_reward, rewards, observations, actions, probs = run_episode(env, policy)\n",
    "\n",
    "        # keep track of episode rewards\n",
    "        episode_rewards.append(total_reward)\n",
    "\n",
    "        # update policy\n",
    "        policy.update(rewards, observations, actions)\n",
    "        print(\"EP: \" + str(i) + \" Score: \" + str(total_reward) + \" \",end=\"\\r\", flush=False)\n",
    "\n",
    "    return episode_rewards, policy"
   ]
  },
  {
   "cell_type": "code",
   "execution_count": 11,
   "id": "ae9eb7d6",
   "metadata": {},
   "outputs": [
    {
     "name": "stderr",
     "output_type": "stream",
     "text": [
      "C:\\local\\Anaconda3\\envs\\py38\\lib\\site-packages\\gym\\core.py:200: DeprecationWarning: \u001b[33mWARN: Function `env.seed(seed)` is marked as deprecated and will be removed in the future. Please use `env.reset(seed=seed)` instead.\u001b[0m\n",
      "  deprecation(\n"
     ]
    },
    {
     "name": "stdout",
     "output_type": "stream",
     "text": [
      "Wall time: 1min 9s0.0 \n"
     ]
    }
   ],
   "source": [
    "%%time\n",
    "# for reproducibility\n",
    "GLOBAL_SEED = 200\n",
    "\n",
    "episode_rewards, policy = train(alpha=0.002,\n",
    "                                gamma=1,\n",
    "                                Policy=LogisticPolicy,\n",
    "                                MAX_EPISODES=2000,\n",
    "                                seed=GLOBAL_SEED)"
   ]
  },
  {
   "cell_type": "code",
   "execution_count": 12,
   "id": "8b97375d",
   "metadata": {},
   "outputs": [
    {
     "data": {
      "image/png": "[encoded data removed]",
      "text/plain": [
       "<Figure size 432x288 with 1 Axes>"
      ]
     },
     "metadata": {
      "needs_background": "light"
     },
     "output_type": "display_data"
    }
   ],
   "source": [
    "%matplotlib inline\n",
    "import matplotlib.pyplot as plt\n",
    "\n",
    "plt.plot(episode_rewards);"
   ]
  },
  {
   "cell_type": "code",
   "execution_count": 18,
   "id": "96033bd1",
   "metadata": {
    "scrolled": true
   },
   "outputs": [],
   "source": [
    "_ = run_episode(env, policy, render=True)"
   ]
  },
  {
   "cell_type": "code",
   "execution_count": 19,
   "id": "2b4f72ab",
   "metadata": {},
   "outputs": [],
   "source": [
    "env.close()"
   ]
  },
  {
   "cell_type": "code",
   "execution_count": null,
   "id": "4574a1f0",
   "metadata": {},
   "outputs": [],
   "source": []
  }
 ],
 "metadata": {
  "kernelspec": {
   "display_name": "Python 3 (ipykernel)",
   "language": "python",
   "name": "python3"
  },
  "language_info": {
   "codemirror_mode": {
    "name": "ipython",
    "version": 3
   },
   "file_extension": ".py",
   "mimetype": "text/x-python",
   "name": "python",
   "nbconvert_exporter": "python",
   "pygments_lexer": "ipython3",
   "version": "3.8.12"
  }
 },
 "nbformat": 4,
 "nbformat_minor": 5
}
