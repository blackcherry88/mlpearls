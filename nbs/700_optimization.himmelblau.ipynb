{
 "cells": [
  {
   "cell_type": "raw",
   "metadata": {},
   "source": [
    "---\n",
    "{}\n",
    "\n",
    "---\n",
    "\n"
   ]
  },
  {
   "cell_type": "code",
   "execution_count": 1,
   "id": "1c4f3aba",
   "metadata": {},
   "outputs": [],
   "source": [
    "%load_ext autoreload\n",
    "%autoreload 2"
   ]
  },
  {
   "cell_type": "code",
   "execution_count": 2,
   "id": "e720db82",
   "metadata": {},
   "outputs": [],
   "source": [
    "#| default_exp optimization.himmelblau\n",
    "from nbdev.showdoc import show_doc"
   ]
  },
  {
   "cell_type": "code",
   "execution_count": 3,
   "id": "99e5ac63",
   "metadata": {},
   "outputs": [],
   "source": [
    "#| export\n",
    "\n",
    "import numpy as np\n",
    "\n",
    "# Himmelblau function - a common example used for testing optimization algorithms\n",
    "def himmelblau(x,y):\n",
    "    return (x*x+y-11)**2+(x+y*y-7)**2\n",
    "\n",
    "# Gradient of the Himmelblau function\n",
    "def grad_himmelblau(x,y):\n",
    "    return np.array([4*x*(x*x+y-11)+2*(x+y*y-7),2*(x*x+y-11)+4*y*(x+y*y-7)])\n",
    "\n",
    "# Hessian of the Himmelblau function\n",
    "def hess_himmelblau(x,y):\n",
    "    return np.array([[4*(x*x+y-11)+8*x*x+2,4*x+4*y],[4*x+4*y,2+4*(x+y*y-7)+8*y*y]])"
   ]
  },
  {
   "cell_type": "markdown",
   "id": "07f58762",
   "metadata": {},
   "source": [
    "In mathematical optimization, Himmelblau's function is a multi-modal function, used to test the performance of optimization algorithms. The function is defined by:\n",
    "\n",
    "$$\n",
    "f(x,y)=(x^{2}+y-11)^{2}+(x+y^{2}-7)^{2}\n",
    "$$\n",
    "\n",
    "It has one local maximum at $(x=-0.270845, y=-0.923039)$ where $f(x,y)=181.617$ \n",
    "and four identical local minima:\n",
    "\n",
    "$$\n",
    "\\begin{align}\n",
    "    f(3.0,2.0) & = 0.0 \\\\\n",
    "    f(-2.805118,3.131312) & = 0.0 \\\\\n",
    "    f(-3.779310,-3.283186) & = 0.0 \\\\\n",
    "    f(3.584428,-1.848126) & = 0.0 \\\\\n",
    "\\end{align}\n",
    "$$\n"
   ]
  },
  {
   "cell_type": "code",
   "execution_count": 4,
   "id": "7590e13a",
   "metadata": {},
   "outputs": [],
   "source": [
    "#test\n",
    "assert himmelblau(3, 2) == 0.0"
   ]
  },
  {
   "cell_type": "code",
   "execution_count": 5,
   "id": "95ed824b",
   "metadata": {},
   "outputs": [],
   "source": [
    "assert himmelblau(-2.805118, 3.131312) < 1.0e-10"
   ]
  },
  {
   "cell_type": "code",
   "execution_count": null,
   "id": "86a3ae58",
   "metadata": {},
   "outputs": [],
   "source": []
  }
 ],
 "metadata": {
  "kernelspec": {
   "display_name": "Python 3 (ipykernel)",
   "language": "python",
   "name": "python3"
  },
  "language_info": {
   "codemirror_mode": {
    "name": "ipython",
    "version": 3
   },
   "file_extension": ".py",
   "mimetype": "text/x-python",
   "name": "python",
   "nbconvert_exporter": "python",
   "pygments_lexer": "ipython3",
   "version": "3.10.4"
  }
 },
 "nbformat": 4,
 "nbformat_minor": 5
}
