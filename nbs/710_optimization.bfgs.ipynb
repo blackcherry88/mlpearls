{
 "cells": [
  {
   "cell_type": "raw",
   "metadata": {},
   "source": [
    "---\n",
    "{}\n",
    "\n",
    "---\n",
    "\n"
   ]
  },
  {
   "cell_type": "code",
   "execution_count": 1,
   "id": "1c4f3aba",
   "metadata": {},
   "outputs": [],
   "source": [
    "%load_ext autoreload\n",
    "%autoreload 2"
   ]
  },
  {
   "cell_type": "code",
   "execution_count": 2,
   "id": "e720db82",
   "metadata": {},
   "outputs": [],
   "source": [
    "#| default_exp optimization.bfgs\n",
    "from nbdev.showdoc import show_doc"
   ]
  },
  {
   "cell_type": "markdown",
   "id": "2fd0e15f",
   "metadata": {},
   "source": [
    "See details in wiki https://en.wikipedia.org/wiki/Broyden%E2%80%93Fletcher%E2%80%93Goldfarb%E2%80%93Shanno_algorithm.\n",
    "\n",
    "Also borrow from https://github.com/trsav/bfgs/blob/master/BFGS.py with refactorings:\n",
    "1. refactoring plot code out\n",
    "2. create a relative generic gradient function\n",
    "3. remove many necessary parethesis\n",
    "4. test against himmelblau"
   ]
  },
  {
   "cell_type": "code",
   "execution_count": 3,
   "id": "594db652",
   "metadata": {},
   "outputs": [],
   "source": [
    "#| export\n",
    "from ml.optimization.grad import naive_grad\n",
    "\n",
    "\n",
    "def line_search(f, grad_f, x0, p, nabla, c1=1e-4, c2=0.9):\n",
    "    '''\n",
    "    BACKTRACK LINE SEARCH WITH WOLFE CONDITIONS\n",
    "    '''\n",
    "    a = 1\n",
    "    fx = f(x0)\n",
    "    init_grad = grad_f(x0)\n",
    "    \n",
    "    x = x0 + a * p \n",
    "    nabla_new = grad_f(x)\n",
    "    while f(x) >= fx + (c1*a*nabla.T@p) or nabla_new.T@p <= c2*nabla.T@p : \n",
    "        a *= 0.5\n",
    "        x = x0 + a * p \n",
    "        nabla_new = grad_f(x)\n",
    "    return a\n",
    "\n",
    "\n",
    "def bfgs(f,x0,max_it,store=False):\n",
    "    '''\n",
    "    DESCRIPTION\n",
    "    BFGS Quasi-Newton Method, implemented as described in Nocedal:\n",
    "    Numerical Optimisation.\n",
    "    INPUTS:\n",
    "    f:      function to be optimised \n",
    "    x0:     intial guess\n",
    "    max_it: maximum iterations \n",
    "    plot:   if the problem is 2 dimensional, returns \n",
    "            a trajectory plot of the optimisation scheme.\n",
    "    OUTPUTS: \n",
    "    x:      the optimal solution of the function f \n",
    "    '''\n",
    "    d = len(x0) # dimension of problem\n",
    "    grad_f = naive_grad(f)\n",
    "    nabla = grad_f(x0) # initial gradient \n",
    "    H = np.eye(d) # initial hessian\n",
    "    x = x0[:]\n",
    "    it = 2 \n",
    "    if store == True: \n",
    "        if d == 2: \n",
    "            x_store =  np.zeros((1,2)) # storing x values \n",
    "            x_store[0,:] = x \n",
    "        else: \n",
    "            print('Too many dimensions to produce trajectory plot!')\n",
    "            store = False\n",
    "\n",
    "    while np.linalg.norm(nabla) > 1e-5: # while gradient is positive\n",
    "        if it > max_it: \n",
    "            print('Maximum iterations reached!')\n",
    "            break\n",
    "        it += 1\n",
    "        p = -H@nabla # search direction (Newton Method)\n",
    "        a = line_search(f,grad_f, x, p, nabla) # line search \n",
    "        s = a * p \n",
    "        x_new = x + a * p \n",
    "        nabla_new = grad_f(x_new)\n",
    "        y = nabla_new - nabla \n",
    "        y = np.reshape(y,(d,1))\n",
    "        s = np.reshape(s,(d,1))\n",
    "        \n",
    "        r = 1/(y.T@s)\n",
    "        li = np.eye(d)-r*(s@y.T)\n",
    "        ri = np.eye(d)-r*(y@s.T)\n",
    "        hess_inter = li@H@ri\n",
    "        \n",
    "        H = hess_inter + r*(s@s.T) # BFGS Update\n",
    "        nabla = nabla_new[:]\n",
    "        x = x_new[:]\n",
    "        if store == True:\n",
    "            x_store = np.append(x_store,[x],axis=0) # storing x\n",
    "        \n",
    "    return x, x_store"
   ]
  },
  {
   "cell_type": "code",
   "execution_count": 4,
   "id": "edc0eb4a",
   "metadata": {},
   "outputs": [],
   "source": [
    "import numpy as np \n",
    "import matplotlib.pyplot as plt \n",
    "from ml.optimization.himmelblau import himmelblau\n",
    "\n",
    "def f(x):\n",
    "    return himmelblau(*x)\n",
    "\n",
    "x_opt, x_store = bfgs(f, [-1.2, 1.0], 100, store=True)\n",
    "    "
   ]
  },
  {
   "cell_type": "code",
   "execution_count": 5,
   "id": "bf38f76b",
   "metadata": {},
   "outputs": [
    {
     "data": {
      "text/plain": [
       "array([[-1.2       ,  1.        ],\n",
       "       [-2.868     ,  3.87      ],\n",
       "       [-3.36615349,  3.69800826],\n",
       "       [-2.5594052 ,  2.47965424],\n",
       "       [-2.75948761,  2.95004783],\n",
       "       [-2.83268273,  3.19701498],\n",
       "       [-2.80662485,  3.12517748],\n",
       "       [-2.80613424,  3.13085932],\n",
       "       [-2.8053771 ,  3.13133625],\n",
       "       [-2.80512898,  3.13132615]])"
      ]
     },
     "execution_count": 5,
     "metadata": {},
     "output_type": "execute_result"
    }
   ],
   "source": [
    "x_store[:10]"
   ]
  },
  {
   "cell_type": "code",
   "execution_count": 6,
   "id": "31b909b0",
   "metadata": {},
   "outputs": [
    {
     "data": {
      "image/png": "[encoded data removed]",
      "text/plain": [
       "<Figure size 432x288 with 2 Axes>"
      ]
     },
     "metadata": {
      "needs_background": "light"
     },
     "output_type": "display_data"
    }
   ],
   "source": [
    "x1 = np.linspace(min(x_store[:,0]-0.5),max(x_store[:,0]+0.5),30)\n",
    "x2 = np.linspace(min(x_store[:,1]-0.5),max(x_store[:,1]+0.5),30)\n",
    "\n",
    "X1,X2 = np.meshgrid(x1,x2)\n",
    "Z = f([X1,X2])\n",
    "plt.figure()\n",
    "plt.title('OPTIMAL AT: '+str(x_store[-1,:])+'\\n IN '+str(len(x_store))+' ITERATIONS')\n",
    "plt.contourf(X1,X2,Z,30,cmap='jet')\n",
    "plt.colorbar()\n",
    "plt.plot(x_store[:,0],x_store[:,1],c='w')\n",
    "plt.xlabel('$x$'); plt.ylabel('$y$')\n",
    "plt.show()"
   ]
  },
  {
   "cell_type": "code",
   "execution_count": null,
   "id": "8d46e32c",
   "metadata": {},
   "outputs": [],
   "source": []
  }
 ],
 "metadata": {
  "kernelspec": {
   "display_name": "Python 3 (ipykernel)",
   "language": "python",
   "name": "python3"
  },
  "language_info": {
   "codemirror_mode": {
    "name": "ipython",
    "version": 3
   },
   "file_extension": ".py",
   "mimetype": "text/x-python",
   "name": "python",
   "nbconvert_exporter": "python",
   "pygments_lexer": "ipython3",
   "version": "3.10.4"
  }
 },
 "nbformat": 4,
 "nbformat_minor": 5
}
