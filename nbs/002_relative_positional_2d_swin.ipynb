{
 "cells": [
  {
   "cell_type": "raw",
   "metadata": {},
   "source": [
    "---\n",
    "{}\n",
    "\n",
    "---\n",
    "\n"
   ]
  },
  {
   "cell_type": "code",
   "execution_count": 1,
   "id": "567ca480",
   "metadata": {},
   "outputs": [],
   "source": [
    "%load_ext autoreload\n",
    "%autoreload 2\n",
    "%matplotlib inline"
   ]
  },
  {
   "cell_type": "code",
   "execution_count": 2,
   "id": "d9a4309e",
   "metadata": {},
   "outputs": [],
   "source": [
    "#| default_exp dl.utils.relative_positional\n",
    "from nbdev.showdoc import show_doc"
   ]
  },
  {
   "cell_type": "markdown",
   "id": "06de036b",
   "metadata": {},
   "source": [
    "In [\"Swin Transformer: Hierarchical Vision Transformer using Shifted Windows\"] (https://arxiv.org/pdf/2103.14030.pdf), the relative positional encoding is used to capture translation invariance. In this notebook, we will implement it from scratch.\n"
   ]
  },
  {
   "cell_type": "code",
   "execution_count": 3,
   "id": "65728668",
   "metadata": {},
   "outputs": [],
   "source": [
    "import torch"
   ]
  },
  {
   "cell_type": "code",
   "execution_count": 18,
   "id": "691b27a4",
   "metadata": {},
   "outputs": [],
   "source": [
    "def naive_2d_relative_distance(w_size):\n",
    "    # tensor for storing it\n",
    "    distances = torch.zeros([w_size, w_size, w_size, w_size, 2])\n",
    "    \n",
    "    for i in range(w_size):\n",
    "        for j in range(w_size):\n",
    "            for k in range(w_size):\n",
    "                for l in range(w_size):\n",
    "                    # row difference\n",
    "                    distances[i, j, k, l, 0] = k - i\n",
    "                    # col diffrence\n",
    "                    distances[i, j, k, l, 1] = l - j\n",
    "    return distances    "
   ]
  },
  {
   "cell_type": "code",
   "execution_count": 19,
   "id": "7d6db855",
   "metadata": {},
   "outputs": [
    {
     "data": {
      "text/plain": [
       "tensor([[-2., -2.],\n",
       "        [-2., -1.],\n",
       "        [-2.,  0.]])"
      ]
     },
     "execution_count": 19,
     "metadata": {},
     "output_type": "execute_result"
    }
   ],
   "source": [
    "W = 3\n",
    "d = naive_2d_relative_distance(W)\n",
    "d = d.view(W*W, W*W, -1)\n",
    "d[8, 0:3, :]"
   ]
  },
  {
   "cell_type": "code",
   "execution_count": 21,
   "id": "72cc8a29",
   "metadata": {},
   "outputs": [],
   "source": [
    "import matplotlib.pyplot as plt\n",
    "import seaborn as sns\n",
    "\n",
    "def show_images(images):\n",
    "    n: int = len(images)\n",
    "    f = plt.figure()\n",
    "    for i in range(n):\n",
    "        # Debug, plot figure\n",
    "        ax = f.add_subplot(1, n, i + 1)\n",
    "        ax.set_title(f'Channel {i}')\n",
    "        sns.heatmap(images[i], annot=images[i], square=True, cbar=False)\n",
    "\n",
    "    \n",
    "    plt.show(block=True)"
   ]
  },
  {
   "cell_type": "code",
   "execution_count": 22,
   "id": "9c9cae63",
   "metadata": {},
   "outputs": [
    {
     "data": {
      "image/png": "[encoded data removed]",
      "text/plain": [
       "<Figure size 640x480 with 2 Axes>"
      ]
     },
     "metadata": {},
     "output_type": "display_data"
    }
   ],
   "source": [
    "show_images(d.permute(2, 0, 1))"
   ]
  },
  {
   "cell_type": "code",
   "execution_count": 31,
   "id": "54082d70",
   "metadata": {},
   "outputs": [],
   "source": [
    "def get_2d_relative_distances(w_size):\n",
    "    # (w_size*w_size, 2)\n",
    "    indices = torch.tensor([[x, y] for x in range(w_size) for y in range(w_size)])\n",
    "    # (w_size*w_size, w_size*w_size, 2)\n",
    "    # the first (col dim) expand across row\n",
    "    # the second (row dim) exp\n",
    "    distances = indices[None, :, :] - indices[:, None, :]\n",
    "    return distances"
   ]
  },
  {
   "cell_type": "code",
   "execution_count": 32,
   "id": "dc04e39e",
   "metadata": {},
   "outputs": [
    {
     "data": {
      "text/plain": [
       "tensor([[[ 0,  0],\n",
       "         [ 0,  1],\n",
       "         [ 0,  2],\n",
       "         [ 1,  0],\n",
       "         [ 1,  1],\n",
       "         [ 1,  2],\n",
       "         [ 2,  0],\n",
       "         [ 2,  1],\n",
       "         [ 2,  2]],\n",
       "\n",
       "        [[ 0, -1],\n",
       "         [ 0,  0],\n",
       "         [ 0,  1],\n",
       "         [ 1, -1],\n",
       "         [ 1,  0],\n",
       "         [ 1,  1],\n",
       "         [ 2, -1],\n",
       "         [ 2,  0],\n",
       "         [ 2,  1]],\n",
       "\n",
       "        [[ 0, -2],\n",
       "         [ 0, -1],\n",
       "         [ 0,  0],\n",
       "         [ 1, -2],\n",
       "         [ 1, -1],\n",
       "         [ 1,  0],\n",
       "         [ 2, -2],\n",
       "         [ 2, -1],\n",
       "         [ 2,  0]],\n",
       "\n",
       "        [[-1,  0],\n",
       "         [-1,  1],\n",
       "         [-1,  2],\n",
       "         [ 0,  0],\n",
       "         [ 0,  1],\n",
       "         [ 0,  2],\n",
       "         [ 1,  0],\n",
       "         [ 1,  1],\n",
       "         [ 1,  2]],\n",
       "\n",
       "        [[-1, -1],\n",
       "         [-1,  0],\n",
       "         [-1,  1],\n",
       "         [ 0, -1],\n",
       "         [ 0,  0],\n",
       "         [ 0,  1],\n",
       "         [ 1, -1],\n",
       "         [ 1,  0],\n",
       "         [ 1,  1]],\n",
       "\n",
       "        [[-1, -2],\n",
       "         [-1, -1],\n",
       "         [-1,  0],\n",
       "         [ 0, -2],\n",
       "         [ 0, -1],\n",
       "         [ 0,  0],\n",
       "         [ 1, -2],\n",
       "         [ 1, -1],\n",
       "         [ 1,  0]],\n",
       "\n",
       "        [[-2,  0],\n",
       "         [-2,  1],\n",
       "         [-2,  2],\n",
       "         [-1,  0],\n",
       "         [-1,  1],\n",
       "         [-1,  2],\n",
       "         [ 0,  0],\n",
       "         [ 0,  1],\n",
       "         [ 0,  2]],\n",
       "\n",
       "        [[-2, -1],\n",
       "         [-2,  0],\n",
       "         [-2,  1],\n",
       "         [-1, -1],\n",
       "         [-1,  0],\n",
       "         [-1,  1],\n",
       "         [ 0, -1],\n",
       "         [ 0,  0],\n",
       "         [ 0,  1]],\n",
       "\n",
       "        [[-2, -2],\n",
       "         [-2, -1],\n",
       "         [-2,  0],\n",
       "         [-1, -2],\n",
       "         [-1, -1],\n",
       "         [-1,  0],\n",
       "         [ 0, -2],\n",
       "         [ 0, -1],\n",
       "         [ 0,  0]]])"
      ]
     },
     "execution_count": 32,
     "metadata": {},
     "output_type": "execute_result"
    }
   ],
   "source": [
    "d1 = get_2d_relative_distances(W)\n",
    "d1"
   ]
  },
  {
   "cell_type": "code",
   "execution_count": 33,
   "id": "528622a8",
   "metadata": {},
   "outputs": [
    {
     "data": {
      "text/plain": [
       "torch.Size([9, 9, 2])"
      ]
     },
     "execution_count": 33,
     "metadata": {},
     "output_type": "execute_result"
    }
   ],
   "source": [
    "d1.shape"
   ]
  },
  {
   "cell_type": "code",
   "execution_count": 34,
   "id": "64ea8daf",
   "metadata": {},
   "outputs": [
    {
     "data": {
      "image/png": "[encoded data removed]",
      "text/plain": [
       "<Figure size 640x480 with 2 Axes>"
      ]
     },
     "metadata": {},
     "output_type": "display_data"
    }
   ],
   "source": [
    "show_images(d1.permute(2, 0, 1))"
   ]
  },
  {
   "cell_type": "code",
   "execution_count": 50,
   "id": "ab13bda5",
   "metadata": {},
   "outputs": [],
   "source": [
    "# offical implementation\n",
    "\n",
    "def get_2d_relative_coord(w_size):\n",
    "    coords_h = torch.arange(w_size)\n",
    "    coords_w = torch.arange(w_size)\n",
    "    coords = torch.stack(torch.meshgrid([coords_h, coords_w], indexing='ij'))  # 2, Wh, Ww\n",
    "    coords_flatten = torch.flatten(coords, 1)  # 2, Wh*Ww\n",
    "    # this corresponding row dimension relative to col dimension\n",
    "    relative_coords = coords_flatten[:, :, None] - coords_flatten[:, None, :]  # 2, Wh*Ww, Wh*Ww\n",
    "    return relative_coords"
   ]
  },
  {
   "cell_type": "code",
   "execution_count": 40,
   "id": "90946e80",
   "metadata": {},
   "outputs": [],
   "source": [
    "coords_h = torch.arange(W)\n",
    "coords_w = torch.arange(W)\n",
    "coords = torch.stack(torch.meshgrid([coords_h, coords_w], indexing='ij')) "
   ]
  },
  {
   "cell_type": "code",
   "execution_count": 42,
   "id": "ba017b61",
   "metadata": {},
   "outputs": [
    {
     "data": {
      "text/plain": [
       "tensor([[[0, 0, 0],\n",
       "         [1, 1, 1],\n",
       "         [2, 2, 2]],\n",
       "\n",
       "        [[0, 1, 2],\n",
       "         [0, 1, 2],\n",
       "         [0, 1, 2]]])"
      ]
     },
     "execution_count": 42,
     "metadata": {},
     "output_type": "execute_result"
    }
   ],
   "source": [
    "coords"
   ]
  },
  {
   "cell_type": "code",
   "execution_count": 43,
   "id": "e7ae261e",
   "metadata": {},
   "outputs": [
    {
     "data": {
      "text/plain": [
       "tensor([[0, 0, 0, 1, 1, 1, 2, 2, 2],\n",
       "        [0, 1, 2, 0, 1, 2, 0, 1, 2]])"
      ]
     },
     "execution_count": 43,
     "metadata": {},
     "output_type": "execute_result"
    }
   ],
   "source": [
    "coords_flatten = torch.flatten(coords, 1)  # 2, Wh*Ww\n",
    "coords_flatten"
   ]
  },
  {
   "cell_type": "code",
   "execution_count": 44,
   "id": "a09e492c",
   "metadata": {},
   "outputs": [
    {
     "data": {
      "text/plain": [
       "tensor([[[ 0,  0,  0, -1, -1, -1, -2, -2, -2],\n",
       "         [ 0,  0,  0, -1, -1, -1, -2, -2, -2],\n",
       "         [ 0,  0,  0, -1, -1, -1, -2, -2, -2],\n",
       "         [ 1,  1,  1,  0,  0,  0, -1, -1, -1],\n",
       "         [ 1,  1,  1,  0,  0,  0, -1, -1, -1],\n",
       "         [ 1,  1,  1,  0,  0,  0, -1, -1, -1],\n",
       "         [ 2,  2,  2,  1,  1,  1,  0,  0,  0],\n",
       "         [ 2,  2,  2,  1,  1,  1,  0,  0,  0],\n",
       "         [ 2,  2,  2,  1,  1,  1,  0,  0,  0]],\n",
       "\n",
       "        [[ 0, -1, -2,  0, -1, -2,  0, -1, -2],\n",
       "         [ 1,  0, -1,  1,  0, -1,  1,  0, -1],\n",
       "         [ 2,  1,  0,  2,  1,  0,  2,  1,  0],\n",
       "         [ 0, -1, -2,  0, -1, -2,  0, -1, -2],\n",
       "         [ 1,  0, -1,  1,  0, -1,  1,  0, -1],\n",
       "         [ 2,  1,  0,  2,  1,  0,  2,  1,  0],\n",
       "         [ 0, -1, -2,  0, -1, -2,  0, -1, -2],\n",
       "         [ 1,  0, -1,  1,  0, -1,  1,  0, -1],\n",
       "         [ 2,  1,  0,  2,  1,  0,  2,  1,  0]]])"
      ]
     },
     "execution_count": 44,
     "metadata": {},
     "output_type": "execute_result"
    }
   ],
   "source": [
    "relative_coords = coords_flatten[:, :, None] - coords_flatten[:, None, :]  # 2, Wh*Ww, Wh*Ww\n",
    "relative_coords"
   ]
  },
  {
   "cell_type": "code",
   "execution_count": 53,
   "id": "56d9df6b",
   "metadata": {},
   "outputs": [],
   "source": [
    "d2 = get_2d_relative_coord(W)"
   ]
  },
  {
   "cell_type": "code",
   "execution_count": 52,
   "id": "e827cef3",
   "metadata": {},
   "outputs": [
    {
     "data": {
      "image/png": "[encoded data removed]",
      "text/plain": [
       "<Figure size 640x480 with 2 Axes>"
      ]
     },
     "metadata": {},
     "output_type": "display_data"
    }
   ],
   "source": [
    "# Note the official implementation is row dimension relative to col dimension\n",
    "show_images(d2)"
   ]
  },
  {
   "cell_type": "code",
   "execution_count": null,
   "id": "1cbc35f9",
   "metadata": {},
   "outputs": [],
   "source": []
  }
 ],
 "metadata": {
  "kernelspec": {
   "display_name": "Python 3 (ipykernel)",
   "language": "python",
   "name": "python3"
  },
  "language_info": {
   "codemirror_mode": {
    "name": "ipython",
    "version": 3
   },
   "file_extension": ".py",
   "mimetype": "text/x-python",
   "name": "python",
   "nbconvert_exporter": "python",
   "pygments_lexer": "ipython3",
   "version": "3.10.10"
  }
 },
 "nbformat": 4,
 "nbformat_minor": 5
}
